{
 "cells": [
  {
   "cell_type": "markdown",
   "id": "ce682a54-43ea-40e7-a994-ad93f73ba8ce",
   "metadata": {},
   "source": [
    "## SOCP\n",
    "\n",
    "\\begin{align*}\n",
    "    \\min_{\\substack{x}}w^Tx: \\\\\n",
    "    & \\left| A_ix - b_i \\right| \\le c_i^Tx + e_i, \\quad & i \\in \\{1,...,m\\}, \\\\\n",
    "    & Fx = g \\\\\n",
    "\\end{align*}\n",
    "\n",
    "* Hyperplane is a convex set in $R^d$\n",
    "\n",
    "$\\{x :\\left| A_ix - b_i \\right| \\le c_i^Tx + e_i\\}$ is a convex set\n",
    "\n",
    "* [Prop 1] : convexity of a function preserves under addition and affine transform $x \\rightarrow Ax-b$\n",
    "* [Prop 2] : $\\{x:f(x) \\le 0 \\}$ is a convex set for a convex function $f$\n",
    "  \n",
    "1. $\\left|x\\right|$ is a convex function of $x$\n",
    "2. $\\left|A_ix-b_i\\right|$ is a convex function `(prop 1)`\n",
    "3. $\\left| A_ix-b_i\\right| - c_i^Tx - e_i$ is a convex function `(prop 1)`\n",
    "4. $\\{x :\\left| A_ix - b_i \\right| \\le c_i^Tx + e_i\\}$ is a convex set `(prop 2)`\n",
    "\n",
    "### Convexity Preserves under Affine Transform\n",
    "\n",
    "If $f$ is convex, then $g(x) = f(Ax+b)$ is convex."
   ]
  },
  {
   "cell_type": "markdown",
   "id": "10bcdd6f-34dc-4f28-9384-b21842bef1ce",
   "metadata": {},
   "source": [
    "## Second-Order Cone\n",
    "\n",
    "[Def] Second-Order Cone (SOC) of dimension $n+1$ is\n",
    "\n",
    "$C_{n+1} = \\{ \\begin{bmatrix}\n",
    "x \\\\\n",
    "t \\\\\n",
    "\\end{bmatrix} : x \\in R^2, t \\in R, \\left|x\\right|_2 \\le t \\}$\n",
    "\n",
    "Note that\n",
    "\n",
    "$\\left| A_ix - b_i \\right| \\le c_i^Tx + e_i \\Leftrightarrow \\begin{bmatrix}\n",
    "A_i \\\\\n",
    "c_i^T \\\\\n",
    "\\end{bmatrix}x + \\begin{bmatrix}\n",
    "-b_i \\\\\n",
    "e_i \\\\\n",
    "\\end{bmatrix} \\in C_{k_i + 1}$\n",
    "\n",
    "The set of points $x$ satisfying the constraint of SOCP is the inverse image of the SOC $C_{k_i + 1}$ under an affine mapping\n",
    "\n",
    "$\\therefore$ SOCP is a SOC-constraint-based Program"
   ]
  },
  {
   "cell_type": "code",
   "execution_count": null,
   "id": "7949e906-18f5-476b-b91d-f0fc5aa3709c",
   "metadata": {},
   "outputs": [],
   "source": []
  }
 ],
 "metadata": {
  "kernelspec": {
   "display_name": "Python 3 (ipykernel)",
   "language": "python",
   "name": "python3"
  },
  "language_info": {
   "codemirror_mode": {
    "name": "ipython",
    "version": 3
   },
   "file_extension": ".py",
   "mimetype": "text/x-python",
   "name": "python",
   "nbconvert_exporter": "python",
   "pygments_lexer": "ipython3",
   "version": "3.9.15"
  }
 },
 "nbformat": 4,
 "nbformat_minor": 5
}
