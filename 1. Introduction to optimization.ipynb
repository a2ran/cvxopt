{
 "cells": [
  {
   "cell_type": "markdown",
   "id": "b3869ce1-7d7c-42d0-a48b-54ae36dd41e9",
   "metadata": {},
   "source": [
    "## Optimization"
   ]
  },
  {
   "cell_type": "markdown",
   "id": "e1c632e0-e116-43f0-abeb-d25661b5d856",
   "metadata": {},
   "source": [
    "#### Definition :\n",
    "\n",
    "> Choosing an optimization variable that minimizes a certain quantity of interest possibly given constraint.\n",
    "\n",
    "\\begin{align*}\n",
    "    \\text{minimize} \\quad & f(x) \\\\\n",
    "    \\text{subject to} \\quad & f_i(x) \\le 0, \\quad & \\forall i \\in [m] \\\\\n",
    "    & h_i(x) = 0, \\quad & \\forall i \\in [p]\n",
    "\\end{align*}"
   ]
  },
  {
   "cell_type": "markdown",
   "id": "eb179800-7be3-43ca-8304-542592c1260f",
   "metadata": {},
   "source": [
    "#### Notations:\n",
    "\n",
    "* Optimization variable : $x \\in R^d$\n",
    "* Objective function : $f(x) \\in R$\n",
    "* Inequality Constraint : $f_i(x) \\le 0$ for all $i = 1, ... , m$\n",
    "* Equality Constraint : $h_i(x) = 0$ for all $i = 1, ... , p$"
   ]
  },
  {
   "cell_type": "markdown",
   "id": "2468f826-54a6-4445-879b-1fb96a851e19",
   "metadata": {},
   "source": [
    "#### Optimization Problem in Standard Form\n",
    "\n",
    "* Optimal Value : $p^* := \\min f(x)$\n",
    "* Optimal Solution : $x^* := arg \\min f(x)$"
   ]
  },
  {
   "cell_type": "markdown",
   "id": "4dd367f8-5614-4d4d-b2d2-2872c043ba7c",
   "metadata": {},
   "source": [
    "#### Convex Optimization\n",
    "\n",
    "Convex optimization is a class of tractable optimization problems.\n",
    "\n",
    "> Optimal solution can be achieved via an algorithm even if the closed form solution is unknown."
   ]
  },
  {
   "cell_type": "markdown",
   "id": "2da29f8c-617b-4afd-855d-dc3f779840f4",
   "metadata": {},
   "source": [
    "<img src = './img/week1_1.png'>"
   ]
  },
  {
   "cell_type": "markdown",
   "id": "ddf8e30b-c801-4567-a85a-a37c6f0f3881",
   "metadata": {},
   "source": [
    "## Convexity"
   ]
  },
  {
   "cell_type": "markdown",
   "id": "e1e047a3-fc98-42d0-a15f-1bc968869bb4",
   "metadata": {},
   "source": [
    "A set $S$ is said to be convex if\n",
    "\n",
    "$x,y \\in S$ $\\rightarrow$ $\\lambda{x} + (1-\\lambda)y \\in S,$ $\\forall{\\lambda} \\in [0, 1]$\n",
    "\n",
    "and they are also the `affine sets`\n",
    "\n",
    "$x,y \\in S$ $\\rightarrow$ $\\lambda{x} + (1-\\lambda)y \\in S,$ $\\forall{\\lambda} \\in R$"
   ]
  },
  {
   "cell_type": "markdown",
   "id": "bbee642b-8d32-451b-bdfe-f9ce95cc6fbe",
   "metadata": {},
   "source": [
    "<img src= './img/week1_2.png' style = 'width:300px;'>"
   ]
  },
  {
   "cell_type": "markdown",
   "id": "4950ed1a-77c3-4bd9-a9c4-1756b95d3793",
   "metadata": {},
   "source": [
    "So, a function $f(x)$ is said to be convex if\n",
    "\n",
    "1. domain of $f$ is a convex set\n",
    "2. $\\forall{x,y} \\in dom{f}, \\forall{\\lambda} \\in [0,1],$\n",
    "$$\n",
    "f(\\lambda{x} + (1-\\lambda)y) \\le \\lambda{f(x)} + (1-\\lambda)f(y)\n",
    "$$"
   ]
  },
  {
   "cell_type": "markdown",
   "id": "be66b0e5-5a50-4e3b-a0d6-fe0ba195f905",
   "metadata": {},
   "source": [
    "A function $f(x)$ is **concave** if $-f(x)$ is convex.\n",
    "\n",
    "$f(x) = - x^2$\n",
    "\n",
    "A function $f(x)$ is **affine** if it is convex & concave\n",
    "\n",
    "$f(x) = a^Tx - b$"
   ]
  },
  {
   "cell_type": "markdown",
   "id": "c8d46328-6446-4080-af00-2aa56ce33b04",
   "metadata": {},
   "source": [
    "### Convex Function & Convex Set\n",
    "\n",
    "[Proposition]\n",
    "\n",
    "For a given convex function $f(x)$,\n",
    "$S$ = {$x:f(x) \\in 0$} is a convex set.\n",
    "\n",
    "[Proof]\n",
    "\n",
    "Let $x,y \\in S$.\n",
    "This implies that $f(x) \\le 0$ and $f(y) \\le 0$\n",
    "\n",
    "Since $f$ is convex, we have $f(\\lambda{x} + (1-\\lambda)y) \\le \\lambda{f(x)} + (1-\\lambda)f(y)) \\le 0$\n",
    "\n",
    "This implies that $\\lambda{x} + (1- \\lambda)y \\in S$"
   ]
  },
  {
   "cell_type": "markdown",
   "id": "a6c45b7b-3401-4a7a-a354-217af9465207",
   "metadata": {},
   "source": [
    "### Convex $\\cup$ Convex = Convex\n",
    "\n",
    "[Proposition]\n",
    "\n",
    "Let $S_1$ = {$x:f_1(x) \\le 0$} and $S_2$ = {$x:f_2(x) \\le 0$} for convex $f_1, f_2$. Then, $S = S_1 \\cup S_2$ is a convex set.\n",
    "\n",
    "[proof]\n",
    "\n",
    "Suppose that $x \\in S_1 \\cup S_2, y \\in S_1 \\cup S_2$ which satisfies following properties because of the definition of each set $S_i$\n",
    "\n",
    "\\begin{align*}\n",
    "  f_{1}(x) \\le 0 \\\\\n",
    "  f_{1}(y) \\le 0 \\\\\n",
    "  f_{2}(x) \\le 0 \\\\\n",
    "  f_{2}(y) \\le 0 \\\\\n",
    "\\end{align*}\n",
    "\n",
    "Because $f_i$ is a convex function and $x \\in dom{f_1}, y \\in dom{f_1}$\n",
    "\n",
    "$\\exists{\\lambda} \\in [0,1] s.t. f_1(\\lambda{x} + (1-\\lambda)y \\le \\lambda{f_1 (x)} + (1-\\lambda)f_1 (y) \\le 0$\n",
    "\n",
    "It means that $f_1 (\\lambda{x} + (1- \\lambda)y) \\le 0 \\rightarrow \\lambda{x} + (1- \\lambda)y \\in S_1$\n",
    "\n",
    "WLOG, it means that $f_2 (\\lambda{x} + (1- \\lambda)y) \\le 0 \\rightarrow \\lambda{x} + (1- \\lambda)y \\in S_2$\n",
    "\n",
    "Therefore, $x \\in S_1 \\cup S_2, y \\in S_1 \\cup S_2 \\rightarrow \\lambda{x} + (1- \\lambda)y \\in S$"
   ]
  },
  {
   "cell_type": "markdown",
   "id": "70294f8f-244e-44bd-a566-6fef2c7bef67",
   "metadata": {},
   "source": [
    "### Convex Optimization (Standard Form)\n",
    "\n",
    "\\begin{align*}\n",
    "    \\text{minimize} \\quad & f(x) \\\\\n",
    "    \\text{subject to} \\quad & f_i(x) \\le 0, \\quad & \\forall i \\in [m] \\\\\n",
    "    & h_i(x) = 0, \\quad & \\forall i \\in [p]\n",
    "\\end{align*}\n",
    "\n",
    "This is a convex optimization problem if\n",
    "\n",
    "1. $f$ is a convex function\n",
    "2. $f_i$ is a convex function\n",
    "3. $h_i$ is an affine function"
   ]
  },
  {
   "cell_type": "code",
   "execution_count": null,
   "id": "77f9926b-6867-41c8-a6fd-c53a8dc05114",
   "metadata": {},
   "outputs": [],
   "source": []
  }
 ],
 "metadata": {
  "kernelspec": {
   "display_name": "Python 3 (ipykernel)",
   "language": "python",
   "name": "python3"
  },
  "language_info": {
   "codemirror_mode": {
    "name": "ipython",
    "version": 3
   },
   "file_extension": ".py",
   "mimetype": "text/x-python",
   "name": "python",
   "nbconvert_exporter": "python",
   "pygments_lexer": "ipython3",
   "version": "3.9.15"
  }
 },
 "nbformat": 4,
 "nbformat_minor": 5
}
