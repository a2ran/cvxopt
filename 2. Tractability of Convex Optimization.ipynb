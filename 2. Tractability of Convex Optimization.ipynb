{
 "cells": [
  {
   "cell_type": "markdown",
   "id": "3499e173-314b-46c5-b91b-5943fc43fb0c",
   "metadata": {},
   "source": [
    "Claim : Convex optimization is tractable\n",
    "\n",
    "* Case 1 : unconstrained $S = R^d$\n",
    "* Case 2 : Constrained $S \\neq R^d$"
   ]
  },
  {
   "cell_type": "markdown",
   "id": "3510b99c-8b57-45f6-8944-26717603489d",
   "metadata": {},
   "source": [
    "### Case 1 : Unconstrained Minimization\n",
    "\n",
    "[Proposition]\n",
    "\n",
    "$\\nabla{f(x^*)} = 0 \\Leftrightarrow f(x) \\ge f(x^*) \\forall{x} \\in dom{f}$\n",
    "\n",
    "[Proof]\n",
    "\n",
    "$\\nabla{f(x^*)} = 0 \\rightarrow f(x) \\ge f(x^*) \\forall{x}$\n",
    "\n",
    "Since $f(x) \\ge \\nabla{f(x^*)^T}(x-x^*) + f(x^*) \\forall{x}$ and $\\nabla{f(x^*)} = 0$,\n",
    "\n",
    "$\\therefore f(x) \\ge f(x^*)$\n",
    "\n",
    "$\\nabla{f(x^*)} = 0 \\leftarrow f(x) \\ge f(x^*) \\forall{x}$\n",
    "\n",
    "$f(x) \\ge f(x^*) \\forall{x}$ implies that $\\nabla{f(x^*)^T}(x-x^*) \\ge 0$\n",
    "\n",
    "Since suppose $\\nabla{f(x^*)} \\neq 0$, one can find x such that $\\nabla{f(x^*)^T}(x-x^*) < 0$ (contradiction)"
   ]
  },
  {
   "cell_type": "markdown",
   "id": "0dad2308-0af1-4b20-aa9a-519b1fc43f5f",
   "metadata": {},
   "source": [
    "#### Gradient Descent Algorithm\n",
    "\n",
    "Goal : Find optimal $x^*$\n",
    "\n",
    "[Pseudocode of GD algorithm]\n",
    "\n",
    "1. Randomly initialize $x^{(0)}$\n",
    "2. For t = 0,1,...T-1, $$ x^{(t+1)} \\leftarrow x^{(t)} - \\alpha^{(t)}\\nabla{f}(x^{(t)}) $$\n",
    "3. Return $x^{(T)}$ ($\\alpha$ : learning rate)"
   ]
  },
  {
   "cell_type": "markdown",
   "id": "89127ef1-5027-41e2-a1d3-153cf8a602d9",
   "metadata": {},
   "source": [
    "# Case 2 : Constrained Minimization\n",
    "\n",
    "$min_{x \\in S}f(x)$ where $f$ is a convex function, $S$ is a convex set.\n",
    "\n",
    "In the constrained setup, the optimal solution $x^*$ may have $\\nabla{f(x^*)} \\neq 0$\n",
    "\n",
    "Solution : Convex-constrained problem can be translated into an unconstrained convex optimization without loss of optimality."
   ]
  },
  {
   "cell_type": "code",
   "execution_count": null,
   "id": "100c073e-e78a-4d56-b5d7-a694b6da4be4",
   "metadata": {},
   "outputs": [],
   "source": []
  }
 ],
 "metadata": {
  "kernelspec": {
   "display_name": "Python 3 (ipykernel)",
   "language": "python",
   "name": "python3"
  },
  "language_info": {
   "codemirror_mode": {
    "name": "ipython",
    "version": 3
   },
   "file_extension": ".py",
   "mimetype": "text/x-python",
   "name": "python",
   "nbconvert_exporter": "python",
   "pygments_lexer": "ipython3",
   "version": "3.9.15"
  }
 },
 "nbformat": 4,
 "nbformat_minor": 5
}
