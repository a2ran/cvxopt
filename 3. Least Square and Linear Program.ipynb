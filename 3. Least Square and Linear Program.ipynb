{
 "cells": [
  {
   "cell_type": "markdown",
   "id": "dc327e8e-c535-4073-9e31-b879e95a4a51",
   "metadata": {},
   "source": [
    "# Least Square"
   ]
  },
  {
   "cell_type": "markdown",
   "id": "275e9aeb-878f-4e7b-a610-58c3502ce62e",
   "metadata": {},
   "source": [
    "### Problem setup\n",
    "\n",
    "Suppose we are given $m$ samples of (feature, label) pair : $\\{(a_i, b_i)\\}_{i=1}^m$.\n",
    "\n",
    "We want to find a model that relates $d$ feature $a_i \\in R^d$ and the label $b_i \\in R$\n",
    "\n",
    "The simplest model is `linear model`.\n",
    "\n",
    "Thus, our goal is finding a vector $x \\in R^d$ that satisfies $a_i^Tx \\approx b_i$ $\\forall i \\in [m]$\n",
    "\n",
    "\\begin{align}\n",
    "    \\text{min}_{x \\in R^d} \\quad & \\sum_{i=1}^m (a_i^Tx - b_i)^2 = \\text{min}_{x \\in R^d}\\left\\|{\\left[\\begin{array}{l}{\\mathbf{a}_{1}}\\\\ {\\vdots}\\\\ {\\mathbf{a}_{m}}\\end{array}\\right]}x - {\\left[\\begin{array}{l}{\\mathbf{b}_{1}}\\\\ {\\vdots}\\\\ {\\mathbf{b}_{m}}\\end{array}\\right]} \\right\\|^{2}\n",
    "    \\text{=} \\min_{x \\in R^d} \\left\\|{A}x - {b} \\right\\|^{2}\n",
    "\\end{align}"
   ]
  },
  {
   "cell_type": "markdown",
   "id": "d57f984f-95a4-4e9c-9705-b370dcdaa95d",
   "metadata": {},
   "source": [
    "We have a closed-form solution : $x^* = (A^TA)^{-1}A^Tb$.\n",
    "\n",
    "Note that $f(x) = \\left\\|Ax - b \\right\\|^2$ is a convex function of $x$.\n",
    "\n",
    "If we recall that the optimal solution has $\\nabla f(x^*) = 0$ for unconstrained cvx opt,\n",
    "\n",
    "$\\nabla \\left|Ax - b \\right|^2 = \\nabla (Ax - b)^T(Ax - b) = \\nabla (x^TA^TAx - 2x^TA^Tb = b^Tb) = 2A^TAx - 2A^Tb = 0$\n",
    "\n",
    "$\\therefore x^* = (A^TA)^{-1}A^Tb$."
   ]
  },
  {
   "cell_type": "markdown",
   "id": "26af72b2-9d27-47bc-8280-3ef86fe3e15e",
   "metadata": {},
   "source": [
    "# Linear Program"
   ]
  },
  {
   "cell_type": "markdown",
   "id": "bfde0c3a-6435-43cb-8416-b341d4176727",
   "metadata": {},
   "source": [
    "\\begin{align*}\n",
    "    \\text{minimize} \\quad & f(x) \\\\\n",
    "    \\text{subject to} \\quad & f_i(x) \\le 0, \\quad & \\forall i \\in [m] \\\\\n",
    "    & h_i(x) = 0, \\quad & \\forall i \\in [p]\n",
    "\\end{align*}\n",
    "\n",
    "A problem can be solved by Linear Program (LP) if\n",
    "\n",
    "1. $f$ is an `Affine function`\n",
    "2. $f_i$ is an `Affine function`\n",
    "3. $h_i$ is an `Affine function`"
   ]
  },
  {
   "cell_type": "markdown",
   "id": "4637ffb9-f99c-43b1-b20a-f6294f3a6664",
   "metadata": {},
   "source": [
    "### Linear Program in Standard Form\n",
    "\n",
    "$\\min_x w^Tx : Ax-b \\le 0, Cx - e = 0$\n",
    "\n",
    "where\n",
    "\n",
    "\\begin{align*}\n",
    "  w, x \\in R^d \\\\\n",
    "  A \\in R^{mxd} \\\\\n",
    "  b \\in R^m \\\\\n",
    "  C \\in R^{pxd} \\\\\n",
    "  e \\in R^p \\\\\n",
    "\\end{align*}"
   ]
  },
  {
   "cell_type": "code",
   "execution_count": null,
   "id": "91813842-ef81-409d-b74a-e30f2a3ac29e",
   "metadata": {},
   "outputs": [],
   "source": []
  }
 ],
 "metadata": {
  "kernelspec": {
   "display_name": "Python 3 (ipykernel)",
   "language": "python",
   "name": "python3"
  },
  "language_info": {
   "codemirror_mode": {
    "name": "ipython",
    "version": 3
   },
   "file_extension": ".py",
   "mimetype": "text/x-python",
   "name": "python",
   "nbconvert_exporter": "python",
   "pygments_lexer": "ipython3",
   "version": "3.9.15"
  }
 },
 "nbformat": 4,
 "nbformat_minor": 5
}
