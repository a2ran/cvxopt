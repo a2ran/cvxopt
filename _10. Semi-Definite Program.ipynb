{
 "cells": [
  {
   "cell_type": "markdown",
   "id": "138a066c-6bb3-4634-a069-3173956e1ea4",
   "metadata": {},
   "source": [
    "### Linear Matrix Inequality\n",
    "\n",
    "LMI is an expression of the form\n",
    "\n",
    "$LMI(x) = A_0 + x_1A_1 + \\cdot\\cdot\\cdot x_mA_m \\ge 0$\n",
    "\n",
    "where $x = [x_1, \\cdot\\cdot\\cdot, x_m]$ is a real vector, $A_0, A_1, \\cdot\\cdot\\cdot, A_m$ are $n \\cdot n$ symmetric matrices"
   ]
  },
  {
   "cell_type": "markdown",
   "id": "d9926b4c-8f9b-4a93-8ff4-d6e5f0d11f7d",
   "metadata": {},
   "source": [
    "### SDP\n",
    "\n",
    "\\begin{align*}\n",
    "    \\min_{\\substack{x \\in R^d}}w^Tx: \\\\\n",
    "    & G + x_1F_1 + \\cdot\\cdot\\cdot + x_dF_d \\ge 0, \\quad & \\text{where } G, F_i \\text{ are symmetric} \\\\\n",
    "    & Cx = e \\\\\n",
    "\\end{align*}"
   ]
  },
  {
   "cell_type": "markdown",
   "id": "bf917c7f-99fa-41d2-bbf8-8ff4f2507244",
   "metadata": {},
   "source": [
    "### Proof of Convexity\n",
    "\n",
    "$S := \\{x : G + x_1F_1 + \\cdot\\cdot\\cdot + x_dF_d \\ge 0 \\}$\n",
    "\n",
    "[Claim] : S is convex\n",
    "\n",
    "[Proof] : Suppose $x, y \\in S, \\lambda \\in [0,1], x = [x_1, \\cdot\\cdot\\cdot, x_d], y = [y_1, \\cdot\\cdot\\cdot, y_d]$\n",
    "\n",
    "$G + (\\lambda x_1 + (1 - \\lambda)y_1)F_1 + \\cdot\\cdot\\cdot + (\\lambda x_d + (1 - \\lambda)y_d)F_d$\n",
    "\n",
    "$= \\lambda[G + x_1F_1 + \\cdot\\cdot\\cdot + x_dF_d] + (1 - \\lambda)[G + y_1F_1 + \\cdot\\cdot\\cdot + y_dF_d] \\ge 0$\n",
    "\n",
    "[Claim] : If $A$ and $B$ are PSDs, then $\\lambda A + (1 - \\lambda)B$ is PSD for all $\\lambda \\in [0,1]$"
   ]
  },
  {
   "cell_type": "markdown",
   "id": "73876cd3-aac9-4c54-8ee9-acc876bc4dd5",
   "metadata": {},
   "source": [
    "* SDP subsumes LP\n",
    "* SDP subsumes SOCP"
   ]
  },
  {
   "cell_type": "code",
   "execution_count": null,
   "id": "1868ce21-ae12-4528-9802-05d9ddd5e035",
   "metadata": {},
   "outputs": [],
   "source": []
  }
 ],
 "metadata": {
  "kernelspec": {
   "display_name": "Python 3 (ipykernel)",
   "language": "python",
   "name": "python3"
  },
  "language_info": {
   "codemirror_mode": {
    "name": "ipython",
    "version": 3
   },
   "file_extension": ".py",
   "mimetype": "text/x-python",
   "name": "python",
   "nbconvert_exporter": "python",
   "pygments_lexer": "ipython3",
   "version": "3.9.15"
  }
 },
 "nbformat": 4,
 "nbformat_minor": 5
}
