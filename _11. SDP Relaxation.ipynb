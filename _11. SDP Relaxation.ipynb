{
 "cells": [
  {
   "cell_type": "markdown",
   "id": "124bdecb-6bf5-4b32-8e11-c8eead23c4f2",
   "metadata": {},
   "source": [
    "### MAXCUT Problem\n",
    "\n",
    "<img src = \"./img/week11_1.png\" style = \"width:500px;\">"
   ]
  },
  {
   "cell_type": "markdown",
   "id": "5496e9e1-c4a9-4451-b0be-2b42f4c2452e",
   "metadata": {},
   "source": [
    "[Definition]\n",
    "\n",
    "$\\begin{align*}\n",
    "    \\max_{\\substack{x_i}} \\quad & \\sum_{i=1}^d \\sum_{j=1}^d \\frac{1}{2} w_{ij} (1- x_ix_j) : \\\\\n",
    "    & x_i^2 = 1, i \\in \\{1,\\cdot\\cdot\\cdot,d\\}, \\\\\n",
    "\\end{align*}$"
   ]
  },
  {
   "cell_type": "markdown",
   "id": "d66095c5-24b6-4f78-92ba-a62ff8f3e763",
   "metadata": {},
   "source": [
    "#### Lifting\n",
    "\n",
    "* Actual Optimization Variable: vector $x = [x_1, \\cdot\\cdot\\cdot, x_d]$\n",
    "* ==> Lifting\n",
    "* New Optimization Variable: matrix $X$ defined as $X_{ij} = x_ix_j$\n",
    "* It induces the following constraints : $X_{ii} = 1, x \\ge 0, rank(X) = 1$"
   ]
  },
  {
   "cell_type": "markdown",
   "id": "c836b7dc-1073-43bc-a086-634ebf3618fa",
   "metadata": {},
   "source": [
    "### Lifted Function\n",
    "\n",
    "$\\begin{align*}\n",
    "    \\max_{\\substack{X}} \\quad & \\sum_{i=1}^d \\sum_{j=1}^d \\frac{1}{2} w_{ij} (1- X_{ij}) : \\\\\n",
    "    & X_{ii} = 1, i \\in \\{1,\\cdot\\cdot\\cdot,d\\}, \\\\\n",
    "    & X \\ge 0 \\\\\n",
    "    & rank(X) = 1\n",
    "\\end{align*}$\n",
    "\n",
    "$p^*$ : Optimal value of original problem\n",
    "\n",
    "$\\begin{align*}\n",
    "    \\max_{\\substack{X}} \\quad & \\sum_{i=1}^d \\sum_{j=1}^d \\frac{1}{2} w_{ij} (1- X_{ij}) : \\\\\n",
    "    & X_{ii} = 1, i \\in \\{1,\\cdot\\cdot\\cdot,d\\}, \\\\\n",
    "    & X \\ge 0 \\\\\n",
    "\\end{align*}$\n",
    "\n",
    "$p_{SDP}^*$ : Optimal value of SDP\n",
    "\n",
    "$p^* \\le p_{SDP}^*$"
   ]
  },
  {
   "cell_type": "markdown",
   "id": "498f0f5f-4011-473d-9360-97593be74150",
   "metadata": {},
   "source": [
    "### Convert $X_{SDP}^*$ to $X^*$\n",
    "\n",
    "$\\begin{align*}\n",
    "    X_{SDP}^* = \\arg \\max_{\\substack{X}} \\quad & \\sum_{i=1}^d \\sum_{j=1}^d \\frac{1}{2} w_{ij} (1- X_{ij}) : \\\\\n",
    "    & X_{ii} = 1, i \\in \\{1,\\cdot\\cdot\\cdot,d\\}, \\\\\n",
    "    & X \\ge 0 \\\\\n",
    "\\end{align*}$\n",
    "\n",
    "* Apply Principle Component Analysis (PCA)\n",
    "\n",
    "When $X_{SDP}^* = U diag(\\lambda_1, \\cdot\\cdot\\cdot, \\lambda_d)U^T$, we define\n",
    "\n",
    "$\\hat{X}_{SDP}^* = U diag(\\lambda_1, 0, \\cdot\\cdot\\cdot, 0)U^T$ and extract $x^*$\n",
    "\n",
    "$\\hat{X}_{SDP}^* = U diag(\\lambda_1, 0, \\cdot\\cdot\\cdot, 0)U^T = [u_1, \\cdot\\cdot\\cdot, u_d]diag(\\lambda_1, 0, \\cdot\\cdot\\cdot, 0) \\begin{bmatrix}\n",
    "u_1^T \\\\\n",
    ".. \\\\\n",
    "u_d^T \\\\\n",
    "\\end{bmatrix} = \\lambda_1u_1u_1^T$ \n",
    "\n",
    "$\\therefore x^* = \\sqrt{\\lambda}u_1$"
   ]
  },
  {
   "cell_type": "code",
   "execution_count": null,
   "id": "79c1ede7-cf81-461e-bc7e-a3bdb35c1bfe",
   "metadata": {},
   "outputs": [],
   "source": []
  }
 ],
 "metadata": {
  "kernelspec": {
   "display_name": "Python 3 (ipykernel)",
   "language": "python",
   "name": "python3"
  },
  "language_info": {
   "codemirror_mode": {
    "name": "ipython",
    "version": 3
   },
   "file_extension": ".py",
   "mimetype": "text/x-python",
   "name": "python",
   "nbconvert_exporter": "python",
   "pygments_lexer": "ipython3",
   "version": "3.9.15"
  }
 },
 "nbformat": 4,
 "nbformat_minor": 5
}
