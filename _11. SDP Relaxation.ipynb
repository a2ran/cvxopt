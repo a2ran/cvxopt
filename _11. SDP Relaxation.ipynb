{
 "cells": [
  {
   "cell_type": "markdown",
   "id": "124bdecb-6bf5-4b32-8e11-c8eead23c4f2",
   "metadata": {},
   "source": [
    "### MAXCUT Problem\n",
    "\n",
    "<img src = \"./img/week11_1.png\" style = \"width:500px;\">"
   ]
  },
  {
   "cell_type": "markdown",
   "id": "5496e9e1-c4a9-4451-b0be-2b42f4c2452e",
   "metadata": {},
   "source": [
    "[Definition]\n",
    "\n",
    "$\\begin{align*}\n",
    "    \\max_{\\substack{x_i}} \\quad & \\sum_{i=1}^d \\sum_{j=1}^d \\frac{1}{2} w_{ij} (1- x_ix_j) : \\\\\n",
    "    & x_i^2 = 1, i \\in \\{1,\\cdot\\cdot\\cdot,d\\}, \\\\\n",
    "\\end{align*}$\n",
    "\n"
   ]
  },
  {
   "cell_type": "markdown",
   "id": "d66095c5-24b6-4f78-92ba-a62ff8f3e763",
   "metadata": {},
   "source": []
  }
 ],
 "metadata": {
  "kernelspec": {
   "display_name": "Python 3 (ipykernel)",
   "language": "python",
   "name": "python3"
  },
  "language_info": {
   "codemirror_mode": {
    "name": "ipython",
    "version": 3
   },
   "file_extension": ".py",
   "mimetype": "text/x-python",
   "name": "python",
   "nbconvert_exporter": "python",
   "pygments_lexer": "ipython3",
   "version": "3.9.15"
  }
 },
 "nbformat": 4,
 "nbformat_minor": 5
}
