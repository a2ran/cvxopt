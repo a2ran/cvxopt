{
 "cells": [
  {
   "cell_type": "markdown",
   "id": "d4e33c12-cdfa-47fa-9942-dbccb1f3bbb0",
   "metadata": {},
   "source": [
    "### Lagrange Function\n",
    "\n",
    "* Lagrange multipliers: $\\lambda \\in R^m$ and $\\nu \\in R^p$\n",
    "* Lagrange function : $L(x, \\lambda, \\nu) := f(x) + \\sum_{i=1}^{m}\\lambda_if_i(x) + \\nu^T(Ax-b)$"
   ]
  },
  {
   "cell_type": "markdown",
   "id": "e51625b6-2d70-4ab2-88f9-6ad3571a37f9",
   "metadata": {},
   "source": [
    "## Primal & Dual Problems\n",
    "\n",
    "* Primal Problem\n",
    "\n",
    "$\\begin{align*}\n",
    "    \\min f(x): \\quad & f_i(x) \\le 0 \\quad & \\forall{i} \\in [m], \\\\\n",
    "    & Ax = b \\quad & \\text{where} A \\in R^{p \\cdot d} \\\\\n",
    "\\end{align*}$\n",
    "\n",
    "* Dual Problem\n",
    "\n",
    "$\\max_{\\lambda, \\nu} g(\\lambda, \\nu) :  \\lambda \\ge 0$\n",
    "\n",
    "$= \\max_{\\lambda, \\nu} \\min_{x \\in dom{f}}f(x) + \\sum_{i=1}^{m}\\lambda_if_i(x) + \\nu^T(Ax-b) : \\lambda \\ge 0$\n",
    "\n",
    "* What Strong Duality Means: $p^* = d^*$\n",
    "* Dual Function $g(\\lambda, \\nu)$ is concave"
   ]
  },
  {
   "cell_type": "markdown",
   "id": "3c979072-15f3-48d0-8579-162d5c2cc087",
   "metadata": {},
   "source": [
    "### KKT Conditions\n",
    "\n",
    "Suppose,\n",
    "\n",
    "1. Strong duality holds\n",
    "2. $(x^*, \\lambda^*, \\nu^*)$ are optimal points, i.e., $x^*$ is optimal sol. for Primal, $(\\lambda^*, \\nu^*)$ is optimal sol. for Dual.\n",
    "\n",
    "Then,\n",
    "\n",
    "$\\begin{align*}\n",
    "    f(x^*) = p^* := \\min f(x): \\quad & f_i(x) \\le 0 \\quad & \\forall{i} \\in [m], \\\\\n",
    "    & Ax = b \\quad & \\text{where} A \\in R^{p \\cdot d} \\\\\n",
    "\\end{align*}$\n",
    "\n",
    "$=$\n",
    "\n",
    "$g(\\lambda^*, \\nu^*) = d^* := \\max_{\\lambda, \\nu} \\min_{x \\in dom{f}}f(x) + \\sum_{i=1}^{m}\\lambda_if_i(x) + \\nu^T(Ax-b) : \\lambda \\ge 0$"
   ]
  },
  {
   "cell_type": "markdown",
   "id": "dedfc25c-8aa7-46d0-941f-00196b73d828",
   "metadata": {},
   "source": [
    "Thus,\n",
    "\n",
    "$g(\\lambda^*, \\nu^*) = \\min_{x \\in dom{f}}f(x) + \\sum_{i=1}^{m}\\lambda_if_i(x) + \\nu^T(Ax-b)$\n",
    "\n",
    "$\\le f(x^*) + \\sum_{i=1}^m \\lambda_i^*f_i(x^*) + (\\nu^*)^T(Ax^*-b) \\le f(x^*)$\n",
    "\n",
    "$\\lambda_i^*f_i(x^*) \\le 0, (Ax^*-b) = 0$"
   ]
  },
  {
   "cell_type": "markdown",
   "id": "ab3e0ab0-db08-4a00-956b-2f632241a88f",
   "metadata": {},
   "source": [
    "Therefore,\n",
    "\n",
    "1. Strong duality holds\n",
    "2. $(x^*, \\lambda^*, \\nu^*)$ are optimal points, i.e., $x^*$ is optimal sol. for Primal, $(\\lambda^*, \\nu^*)$ is optimal sol. for Dual.\n",
    "\n",
    "==>\n",
    "\n",
    "* $\\nabla_xL(x^*, \\lambda^*, \\nu^*) = 0$\n",
    "* $\\lambda_i^*f_i(x^*) = 0$\n",
    "* $f_i(x^*) \\le 0$\n",
    "* $Ax^* - b = 0$\n",
    "* $\\lambda^* \\ge 0$\n",
    "\n",
    "$\\therefore$ Strong Duality $\\rightarrow$ KKT Condition"
   ]
  },
  {
   "cell_type": "markdown",
   "id": "ed971a39-371a-4951-a7eb-e002f6e2b35a",
   "metadata": {},
   "source": [
    "### KKT Condition $\\rightarrow$ Strong Duality"
   ]
  },
  {
   "cell_type": "markdown",
   "id": "434d2fa7-16fd-4c88-8c3c-b302f14a2b0b",
   "metadata": {},
   "source": [
    "First show : $f(x^*) = g(\\lambda^*, \\nu^*)$\n",
    "\n",
    "[proof]\n",
    "\n",
    "$f(x^*) = f(x^*) + \\sum_{i=1}^m\\lambda_i^*f_i(x^*) + (\\nu^*)^T(Ax^*-b)$\n",
    "\n",
    "$= L(x^*, \\lambda^*, \\nu^*)$\n",
    "\n",
    "$= \\min_{x \\in dom{f}}f(x) + \\sum_{i=1}^{m}\\lambda_i^*f_i(x) + (\\nu^*)^T(Ax-b)$\n",
    "\n",
    "$= g(\\lambda^*, \\nu^*)$\n",
    "\n",
    "This implies: $p^* \\le f(x^*) = g(\\lambda^*, \\nu^*) \\le d^*$, which means $p^* \\le d^*$\n",
    "\n",
    "Next show $p^* \\ge d^*$\n",
    "\n",
    "[proof]\n",
    "\n",
    "Suppose : $\\hat{x}$ is the minimizer of Primal, $(\\hat{\\lambda}, \\hat{\\nu})$ is the maximizer of Dual\n",
    "\n",
    "Then, $p^* = f(\\hat{x}) \\ge f(\\hat{x}) + \\sum_{i=1}^m \\hat{\\lambda}_if_i(\\hat{x}) + \\hat{\\nu}^T(A\\hat{x}-b) \\ge \\min_{x \\in dom{f}}f(x) + \\sum_{i=1}^{m}\\hat{\\lambda_i}^*f_i(x) + (\\hat{\\nu})^T(Ax-b) = g(\\hat{\\lambda}, \\hat{\\nu}) = d^*$\n",
    "\n",
    "$\\therefore$ It is confirmed that $p^* = d^*$"
   ]
  },
  {
   "cell_type": "code",
   "execution_count": null,
   "id": "0c2562c9-8f38-41ed-9e1e-ffbf8ddd6cd8",
   "metadata": {},
   "outputs": [],
   "source": []
  }
 ],
 "metadata": {
  "kernelspec": {
   "display_name": "Python 3 (ipykernel)",
   "language": "python",
   "name": "python3"
  },
  "language_info": {
   "codemirror_mode": {
    "name": "ipython",
    "version": 3
   },
   "file_extension": ".py",
   "mimetype": "text/x-python",
   "name": "python",
   "nbconvert_exporter": "python",
   "pygments_lexer": "ipython3",
   "version": "3.9.15"
  }
 },
 "nbformat": 4,
 "nbformat_minor": 5
}
