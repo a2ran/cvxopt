{
 "cells": [
  {
   "cell_type": "markdown",
   "id": "59062d42-3cd7-4259-8446-495888c8c5b6",
   "metadata": {},
   "source": [
    "## 1. Unconstrained Optimization\n",
    "\n",
    "$p^* = \\min f(x)$\n",
    "\n",
    "$d^* = g = \\min\\limits_{x \\in domf} L(x) = \\min\\limits_{x \\in domf} f(x) = p^*$\n",
    "\n",
    "This completes the proof of $p^* = d^*$"
   ]
  },
  {
   "cell_type": "markdown",
   "id": "1153de8e-f984-466d-849a-28930c08f850",
   "metadata": {},
   "source": [
    "## 2. Equality-constrined Optimization\n",
    "\n",
    "$p^* = \\min f(x) : Ax = b$ where $A \\in R^{p \\times d}$ with $p \\le d$\n",
    "\n",
    "$d^* = \\max\\limits_{g(\\nu)} = \\max\\limits_{\\nu} \\min\\limits_x f(x) + \\nu^T (Ax - b)$\n",
    "\n",
    "We will prove $p^* \\ge d^*$ and $p^* \\le d^*$"
   ]
  },
  {
   "cell_type": "markdown",
   "id": "f77d9c6e-ba7c-436b-92e3-c6434bbd967e",
   "metadata": {},
   "source": [
    "### Proof of $p^* \\ge d^*$\n",
    "\n",
    "Suppose $x^*$ achieves $p^*$, and $\\nu^*$ achieves $d^*$.\n",
    "\n",
    "$\\begin{align*}\n",
    "    \\text{Then}, p^* \\quad & = f(x^*) \\\\\n",
    "    & = f(x^*) + \\nu^{*T}(Ax^* - b) \\\\\n",
    "    & \\ge \\min\\limits_{x\\in domf}f(x) + \\nu^{*T}(Ax - b) \\\\\n",
    "    & = g(\\nu^*) \\\\\n",
    "    & = d^*\n",
    "\\end{align*}$"
   ]
  },
  {
   "cell_type": "markdown",
   "id": "a5a096dd-bcbf-471a-8bd7-7e3cdd8a637f",
   "metadata": {},
   "source": [
    "### Proof of $p^* \\le d^*$\n",
    "\n",
    "Consider $S = \\{ (v,t) \\in R^{p+1} : \\exists x$ such that $Ax - b = v, f(x) \\le t \\}$\n",
    "\n",
    "`Property 1` : $S$ is a convex set\n",
    "\n",
    "Proof: Suppose $(v_1, t_1), (v_2, t_2) \\in S$ Then,\n",
    "\n",
    "$\\exists x_1 : Ax_1 - b = v_1, f(x_1) \\in t_1$\n",
    "\n",
    "$\\exists x_2 : Ax_2 - b = v_2, f(x_2) \\in t_2$\n",
    "\n",
    "This implies $\\lambda v_1 + (1-\\lambda)v_2 = A(\\lambda x_1 + (1-\\lambda)x_2) - b$\n",
    "\n",
    "$\\lambda t_1 + (1 - \\lambda)t_2 \\ge \\lambda f(x_1) + (1-\\lambda)f(x_2) \\ge f(\\lambda x_1 + (1-\\lambda)x_2)$\n",
    "\n",
    "Thus, $\\lambda(v_1, t_1) + (1-\\lambda)(v_2, t_2) \\in S$\n",
    "\n",
    "`Property 2` : $(v, t) = (0, p^*) \\in S$\n",
    "\n",
    "Proof : Directly from the definition $p^* = minf(x) : Ax = b$\n",
    "\n",
    "`Property 3` : $(v,t) = (0, p^*)$ is the minimum point in $S$, at $v=0$ axis\n",
    "\n",
    "Proof : Otherwise, there exists $(v, t) = (0, p^* - \\epsilon) \\in S,$ which contradicts the definition of $p^*$\n",
    "\n",
    "`Property 4` : $(v, t) \\in S$ implies $(v, t') \\in S$ for all $t' \\ge t$\n",
    "\n",
    "Proof : Directly from the definition of $S$"
   ]
  },
  {
   "cell_type": "markdown",
   "id": "564c4f60-66b8-478a-83f8-02771821d901",
   "metadata": {},
   "source": [
    "<img src = './img/week14_1.png' style = \"width : 700px;\">"
   ]
  },
  {
   "cell_type": "markdown",
   "id": "88f517f1-8852-4dcc-892f-5a2b2f911eef",
   "metadata": {},
   "source": [
    "Consider another convex set $S' = \\{(0,t) \\in R^{p+1} : t < p^* \\}$\n",
    "\n",
    "`Thm` If there are two disjoint convex sets $S, S'$, then there exists a hyperplane $P$ which separates $S$ and $S'$"
   ]
  },
  {
   "cell_type": "markdown",
   "id": "395d517d-5d63-46cf-928a-23d11a9a3fff",
   "metadata": {},
   "source": [
    "<img src = './img/week14_2.png' style = \"width : 700px;\">"
   ]
  },
  {
   "cell_type": "markdown",
   "id": "fdcf9d05-1afb-4d92-b83b-f743d5e1d592",
   "metadata": {},
   "source": [
    "Thus, $\\mu p^* \\le \\nu^Tv + \\mu t$ holds for all $(v, t) \\in S$\n",
    "\n",
    "Since $\\mu > 0$, $p^* \\le (\\frac{\\nu}{\\mu})^T v + t$ holds for all $(v, t) \\in S$\n",
    "\n",
    "Thus, $p^* \\le \\min\\limits_{(v,t) \\in S}(\\frac{\\nu}{\\mu})^T v + t = \\min\\limits_{(x,v,t):Ax-b=\\nu,f(x) \\le t} (\\frac{\\nu}{\\mu})^T v + t$"
   ]
  },
  {
   "cell_type": "markdown",
   "id": "a2657b50-48dc-4495-b470-9bf1f1733237",
   "metadata": {},
   "source": [
    "## Summary\n",
    "\n",
    "`Primal Problem`\n",
    "\n",
    "$\\min\\limits_{x} f(x) : f_i(x) \\le 0 \\forall i \\in [m], Ax = b$\n",
    "\n",
    "`Dual Problem`\n",
    "\n",
    "$\\max\\limits_{\\lambda , \\nu} \\min\\limits_{x} f(x) + \\sum\\limits_{i=1}^m \\lambda_i f_i(x) + \\nu^T(Ax-b) : \\lambda \\ge 0$\n",
    "\n",
    "Strong Duality Theorem : $p^* = d^*$ for convex opt. under a mild condition\n",
    "\n",
    "$\\exists x$ such that $f_1(x) < 0, ..., f_m(x) < 0, Ax = b$"
   ]
  },
  {
   "cell_type": "code",
   "execution_count": null,
   "id": "3c24e371-322b-489e-a733-64a9d4c5cf39",
   "metadata": {},
   "outputs": [],
   "source": []
  }
 ],
 "metadata": {
  "kernelspec": {
   "display_name": "Python 3 (ipykernel)",
   "language": "python",
   "name": "python3"
  },
  "language_info": {
   "codemirror_mode": {
    "name": "ipython",
    "version": 3
   },
   "file_extension": ".py",
   "mimetype": "text/x-python",
   "name": "python",
   "nbconvert_exporter": "python",
   "pygments_lexer": "ipython3",
   "version": "3.9.15"
  }
 },
 "nbformat": 4,
 "nbformat_minor": 5
}
