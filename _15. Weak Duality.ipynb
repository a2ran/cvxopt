{
 "cells": [
  {
   "cell_type": "markdown",
   "id": "0303ef9a-6da7-4139-b3b4-c6e346ec246b",
   "metadata": {},
   "source": [
    "`Primal Problem`\n",
    "\n",
    "$\\min\\limits_{x} f(x) : f_i(x) \\le 0 \\forall i \\in [m], Ax = b$\n",
    "\n",
    "`Dual Problem`\n",
    "\n",
    "$\\max\\limits_{\\lambda , \\nu} \\min\\limits_{x} f(x) + \\sum\\limits_{i=1}^m \\lambda_i f_i(x) + \\nu^T(Ax-b) : \\lambda \\ge 0$"
   ]
  },
  {
   "cell_type": "markdown",
   "id": "1d79ccd5-607a-425b-a2b6-9528f840b3ed",
   "metadata": {},
   "source": [
    "## Weak Duality\n",
    "\n",
    "Let $x^*$ be the optimal solution of primal problem, and $(\\lambda^*, \\nu^*)$ be the optimal solution of dual problem. Then,\n",
    "\n",
    "$\\begin{align*}\n",
    "    p^* \\quad & = f(x^*) \\\\\n",
    "    & \\ge f(x^*) + \\sum\\limits_{i=1}^m \\lambda_i^* f_i(x^*) + \\sum\\limits_{i=1}^p v_i^* h_i(x^*) \\\\\n",
    "    & \\ge \\min\\limits_{x \\in X} f(x) + \\sum\\limits_{i=1}^m \\lambda_i^* f_i(x) + \\sum\\limits_{i=1}^p v_i^* h_i(x) \\\\\n",
    "    & = g(\\lambda^*, v^*) = d^* \\\\\n",
    "\\end{align*}$"
   ]
  },
  {
   "cell_type": "markdown",
   "id": "2926ce42-d687-4706-b136-32e9750f07d6",
   "metadata": {},
   "source": [
    "## Convexity of Dual Problem\n",
    "\n",
    "`Dual Problem is always convex`, even when the primal problem is non-convex\n",
    "\n",
    "$d^* = \\max\\limits_{\\lambda , \\nu} \\min\\limits_{x} f(x) + \\sum\\limits_{i=1}^m \\lambda_i f_i(x) + \\nu^T(Ax-b) : \\lambda \\ge 0$\n",
    "\n",
    "Note that $L(x, \\lambda, \\nu)$ is affine in $(\\lambda, \\nu)$ for every x\n",
    "\n",
    "Thus, $g(\\lambda, \\nu) = \\min\\limits_{x} L(x, \\lambda, \\nu)$ is concave in x\n",
    "\n",
    "$d^* = \\max\\limits_{\\lambda, \\nu} g(\\lambda, \\nu) : \\lambda \\ge 0$\n",
    "\n",
    "$= \\min\\limits_{\\lambda, \\nu} -g(\\lambda, \\nu) : \\lambda \\ge 0$\n",
    "\n",
    "Thus, this problem is convex."
   ]
  },
  {
   "cell_type": "markdown",
   "id": "5fd46b3e-501b-4875-8035-d737de5b957b",
   "metadata": {},
   "source": [
    "<img src = \"./img/week15_1.png\" style = \"width : 700px;\">"
   ]
  },
  {
   "cell_type": "markdown",
   "id": "f7242667-1695-4e98-81d0-fbd8d5b17c09",
   "metadata": {},
   "source": [
    "## IPM for dual problem\n",
    "\n",
    "$d^* = \\max\\limits_{\\lambda, \\nu} g(\\lambda, \\nu) : \\lambda \\ge 0$\n",
    "\n",
    "1. Approximate the problem via a log-barrier function\n",
    "\n",
    "$$\\max\\limits_{\\lambda, \\nu} g(\\lambda, \\nu) + \\mu\\sum\\limits_{i=1}^m log \\lambda_i$$\n",
    "\n",
    "2. Use gradient descent to find $(\\tilde{\\lambda}, \\tilde{\\nu})$ such that\n",
    "\n",
    "$$ \\nabla_{\\lambda} \\tilde{g}(\\tilde{\\lambda}, \\tilde{\\nu}) = 0, \\nabla_{\\nu} \\tilde{g}(\\tilde{\\lambda}, \\tilde{\\nu}) = 0  $$\n",
    "\n",
    "The actual optimal value of dual problem : $d^*$\n",
    "\n",
    "The function value of zero-gradient point we found : $g(\\tilde{\\lambda}, \\tilde{\\nu})$\n",
    "\n",
    "Since $d^* - g(\\tilde{\\lambda}, \\tilde{\\nu}) \\le m\\mu$,\n",
    "\n",
    "For sufficiently small $\\mu$, we have $d^* \\approx g(\\tilde{\\lambda}, \\tilde{\\nu})$"
   ]
  },
  {
   "cell_type": "code",
   "execution_count": null,
   "id": "a819a5c5-8578-4283-9538-a53963617ee0",
   "metadata": {},
   "outputs": [],
   "source": []
  }
 ],
 "metadata": {
  "kernelspec": {
   "display_name": "Python 3 (ipykernel)",
   "language": "python",
   "name": "python3"
  },
  "language_info": {
   "codemirror_mode": {
    "name": "ipython",
    "version": 3
   },
   "file_extension": ".py",
   "mimetype": "text/x-python",
   "name": "python",
   "nbconvert_exporter": "python",
   "pygments_lexer": "ipython3",
   "version": "3.9.15"
  }
 },
 "nbformat": 4,
 "nbformat_minor": 5
}
