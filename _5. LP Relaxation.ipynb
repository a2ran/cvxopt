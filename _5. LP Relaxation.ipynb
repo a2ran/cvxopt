{
 "cells": [
  {
   "cell_type": "markdown",
   "id": "f18f17b1-0bd3-48fd-8b59-e254aa0bb003",
   "metadata": {},
   "source": [
    "## Boolean Problem\n",
    "\n",
    "\\begin{align*}\n",
    "    \\text{min}w^Tx : \\quad & Ax - b \\le 0 \\\\\n",
    "    & Cx - e = 0 \\\\\n",
    "    & x_i \\in \\{0,1\\} \\quad & i = 1, ... , d \\\\\n",
    "\\end{align*}"
   ]
  },
  {
   "cell_type": "markdown",
   "id": "94480956-4c1d-49bd-901f-6d4f8265fae3",
   "metadata": {},
   "source": [
    "### Bipartite Matching\n",
    "\n",
    "* About matching N people to N tasks in an one-to-one manner\n",
    "\n",
    "<img src = \"./img/week5_1.png\" style = \"width:500px;\">\n",
    "\n",
    "* Goal : Find a matching such that the cost is minimized\n",
    "\n",
    "Given the cost values $\\{w_{ij}\\}_{i,j \\in [N]}$, we want to solve\n",
    "\n",
    "\\begin{align*}\n",
    "    \\text{min}_{x_{ij}} \\quad & \\sum_{i=1}^N \\sum_{j=1}^N w_{ij} x_{ij} \\\\\n",
    "    \\text{such that} \\quad & \\sum_{i=1}^N x_{ij} = 1 \\quad & \\forall{j} = 1,...,N \\quad & \\text{Each worker has only one task} \\\\\n",
    "    & \\sum_{j=1}^N x_{ij} = 1 \\quad & \\forall{i} = 1,...,N \\quad & \\text{Each task is assigned to only one worker} \\\\\n",
    "\\end{align*}"
   ]
  },
  {
   "cell_type": "markdown",
   "id": "67882c11-d5ed-4faa-a5dd-520d3ce4ce99",
   "metadata": {},
   "source": [
    "### Shortest Path\n",
    "\n",
    "* About Finding a path from a source to a destination\n",
    "\n",
    "<img src = \"./img/week5_2.png\" style = \"width:500px;\">\n",
    "\n",
    "* Goal : Find a path form a source to a destination with minimum cost\n",
    "\n",
    "* Given the cost values $\\{w_{ij}\\}_{i,j=1}^N$ and edge set $E$\n",
    "\n",
    "\\begin{align*}\n",
    "    \\text{min}_{x_{ij}} \\quad & \\sum_{(i,j) \\in E} w_{ij}x_{ij} \\\\\n",
    "    \\text{such that} \\quad & \\sum_{(1,j) \\in E} x_1j - \\sum{(i,1) \\in E} x_i1 = 1 \\\\\n",
    "    & \\sum_{(6,j) \\in E} x_6j - \\sum{(i,6) \\in E} x_i6 = -1 \\\\\n",
    "    & \\sum_{(u,j) \\in E} x_uj - \\sum{(i,u) \\in E} x_iu = 0 \\\\\n",
    "    & x_{ij} \\in \\{0,1\\}\n",
    "\\end{align*}"
   ]
  },
  {
   "cell_type": "markdown",
   "id": "e33b8b11-8a87-4650-969a-2e8a0dcbac7a",
   "metadata": {},
   "source": [
    "## LP Relaxation\n",
    "\n",
    "\\begin{align*}\n",
    "    p^* := \\text{min}w^Tx : \\quad & Ax - b \\le 0 \\\\\n",
    "    & Cx - e = 0 \\\\\n",
    "    & x_i \\in \\{0,1\\} \\quad & i = 1, ... , d \\\\\n",
    "\\end{align*}\n",
    "\n",
    "==>\n",
    "\n",
    "\\begin{align*}\n",
    "    p_{LP}^* := \\text{min}w^Tx : \\quad & Ax - b \\le 0 \\\\\n",
    "    & Cx - e = 0 \\\\\n",
    "    & 0 \\le x_i \\le 1 \\quad & i = 1, ... , d \\\\\n",
    "\\end{align*}\n",
    "\n",
    "Trivially, $p^* \\ge p_{LP}^*$\n",
    "\n",
    "But in some cases, the optimal $x_ij$ for the LP-relaxed problem satisfies $x_{ij, LP}^* \\in \\{0,1\\}$,\n",
    "\n",
    "which implies that $p^* = p_{LP}^*$"
   ]
  },
  {
   "cell_type": "code",
   "execution_count": null,
   "id": "b7d8fe50-f863-433c-87e0-dbfa9a1433a8",
   "metadata": {},
   "outputs": [],
   "source": []
  }
 ],
 "metadata": {
  "kernelspec": {
   "display_name": "Python 3 (ipykernel)",
   "language": "python",
   "name": "python3"
  },
  "language_info": {
   "codemirror_mode": {
    "name": "ipython",
    "version": 3
   },
   "file_extension": ".py",
   "mimetype": "text/x-python",
   "name": "python",
   "nbconvert_exporter": "python",
   "pygments_lexer": "ipython3",
   "version": "3.9.15"
  }
 },
 "nbformat": 4,
 "nbformat_minor": 5
}
