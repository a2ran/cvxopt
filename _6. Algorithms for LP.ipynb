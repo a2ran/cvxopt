{
 "cells": [
  {
   "cell_type": "markdown",
   "id": "17a41a0b-1cc9-4d32-a8fc-c2d264752eef",
   "metadata": {},
   "source": [
    "## Simplex Algorithm\n",
    "\n",
    "\\begin{align*}\n",
    "    \\text{max}_{\\substack{x}}w^Tx : \\quad & Ax \\le b \\\\\n",
    "    & x \\ge 0 \\\\\n",
    "\\end{align*}"
   ]
  },
  {
   "cell_type": "markdown",
   "id": "68855cbd-88a8-4728-a700-4c2b4a4ac728",
   "metadata": {},
   "source": [
    "<img src = \"./img/week6_1.png\" style = \"width:500px\">\n",
    "\n",
    "Solution : $(x_1, x_2, s_1, s_2) = (0,0,78,36)$ Target : $z = 0$\n",
    "\n",
    "1. Increase a single $x_i$ value\n",
    "\n",
    "* $(x_1, x_2) = (\\delta, 0)$, $\\delta \\le \\min\\{26,9\\} = 9$ $z = 45$\n",
    "* $(x_1, x_2) = (0, \\delta)$, $\\delta \\le \\min\\{\\frac{78}{5},36\\} = \\frac{78}{5}$ $z = 62.4$\n",
    " \n",
    "Solution : $(x_1, x_2, s_1, s_2) = (0,\\frac{78}{5},0,\\frac{102}{5})$ Target : $z = 62.4$\n",
    "\n",
    "2. See if other variables positively affects $z$\n",
    "\n",
    "<img src = \"./img/week6_2.png\" style = \"width:500px\">\n",
    "\n",
    "By Gaussian ELimination technique,\n",
    "\n",
    "* Increasing $x_1$ increases $z$\n",
    "* Increasing $s_1$ decreases $z$\n",
    "\n",
    "==> Make all constraints contaion $(x_1, s_1)$ simultaneously\n",
    "\n",
    "<img src = \"./img/week6_3.png\" style = \"width:500px\">\n",
    "\n",
    "<img src = \"./img/week6_4.png\" style = \"width:500px\">\n",
    "\n",
    "$(x_1, x_2, s_1, s_2) = (0,\\frac{78}{5},0,\\frac{102}{5}) \\rightarrow (x_1, x_2, s_1, s_2) = (\\delta,?,0,?) $\n",
    "\n",
    "* $5x_2 = 78 - 3\\delta \\ge 0$\n",
    "* $5s_2 = 102 - 17\\delta \\ge 0$\n",
    "* $\\therefore \\delta \\le \\frac{102}{17} = 6$\n",
    "\n",
    "Solution : $(x_1, x_2, s_1, s_2) = (6,12,0,0)$ Target : $z = 78$\n",
    "\n",
    "Finally, we need to know the effect of changing $s_1, s_2$\n",
    "\n",
    "<img src = \"./img/week6_5.png\" style = \"width:500px\">\n",
    "\n",
    "* Increasing $(s_1, s_2)$ decreases $z$\n",
    "\n",
    "$\\therefore (x_1^*, x_2^*) = (6,12) \\text{and} z^* = 78$"
   ]
  },
  {
   "cell_type": "code",
   "execution_count": null,
   "id": "fde26006-8aa3-47be-9cc3-b92aed76789b",
   "metadata": {},
   "outputs": [],
   "source": []
  }
 ],
 "metadata": {
  "kernelspec": {
   "display_name": "Python 3 (ipykernel)",
   "language": "python",
   "name": "python3"
  },
  "language_info": {
   "codemirror_mode": {
    "name": "ipython",
    "version": 3
   },
   "file_extension": ".py",
   "mimetype": "text/x-python",
   "name": "python",
   "nbconvert_exporter": "python",
   "pygments_lexer": "ipython3",
   "version": "3.9.15"
  }
 },
 "nbformat": 4,
 "nbformat_minor": 5
}
