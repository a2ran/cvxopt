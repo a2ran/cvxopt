{
 "cells": [
  {
   "cell_type": "markdown",
   "id": "3d155453-b635-4578-872a-059398900085",
   "metadata": {},
   "source": [
    "## Least Squares\n",
    "\n",
    "Let $x \\in R^d, A \\in R^{mxd}, b \\in R^m$\n",
    "\n",
    "$p^* = min_{x \\in R^d}\\left|Ax - b \\right|^2$\n",
    "\n",
    "$x^* = (A^TA)^{-1}A^Tb$\n",
    "\n",
    "This is only when $A^TA$ is invertible. Else, $x^*$ minimizes LS if and only if $(A^TA)x^* = A^Tb$\n",
    "\n",
    "* Case 1: if A is a wide matrix ($m < d$), many solutions exist for $Ax = b$\n",
    "* Case 2: if A is a tall matrix ($m \\ge d$), no solution exist for $Ax = b$. But has a solution that minimizes $\\left| Ax - b \\right|^2$"
   ]
  },
  {
   "cell_type": "markdown",
   "id": "ebea37c9-0cea-40eb-aa2a-9c93596f686f",
   "metadata": {},
   "source": [
    "## Least-squares Classifier\n",
    "\n",
    "Given $(x_1, y_1), (x_2, y_2), ... , (x_m, y_m)$,\n",
    "\n",
    "$\\min_{w \\in R^d}\\left|Aw - b \\right|^2 \\rightarrow w^* = (A^TA)^{-1}A^Tb$\n",
    "\n",
    "### Training & Testing\n",
    "\n",
    "1. Step #1. Get LS classifier $w_{LS}^*$ using seen training data $\\{(x_i,y_i)\\}_{i=1}^m$\n",
    "2. Step #2. Test the classifier $w_{LS}^*$ on new unseen test data $x_test$\n",
    "\n",
    "<img src = \"./img/week7_1.png\" style = \"width : 500px;\">\n",
    "\n",
    "### Regulations\n",
    "\n",
    "In reality, $x$ contains some noise, so large values of $w^*$ can boost up such noise.\n",
    "\n",
    "To avoid noising, we need to reduce $\\left|w^*\\right|^2$ and minimize $\\left|Aw-b\\right|^2$\n",
    "\n",
    "==>\n",
    "\n",
    "$\\min_{w \\in R^d}\\left|Aw - b \\right|^2 + \\lambda\\left|w\\right|^2$\n",
    "\n",
    "= $\\min_{w \\in R^d} \\left| \\left[\\begin{array}{l}{\\mathbf{A}}\\\\ {\\mathbf{\\sqrt\\lambda}I}\\end{array}\\right]w - \\left[\\begin{array}{l}{\\mathbf{b}}\\\\ {\\mathbf{0}}\\end{array}\\right] \\right|^2$\n",
    "\n",
    "$w_{LS}^* = ({A'}^T{A'})^{-1}{A'}^T{b'}$\n",
    "\n",
    "$\\lambda$ is the regularization factor"
   ]
  },
  {
   "cell_type": "code",
   "execution_count": null,
   "id": "59f2f811-bc52-4a32-9a69-1b8274c26ca1",
   "metadata": {},
   "outputs": [],
   "source": []
  }
 ],
 "metadata": {
  "kernelspec": {
   "display_name": "Python 3 (ipykernel)",
   "language": "python",
   "name": "python3"
  },
  "language_info": {
   "codemirror_mode": {
    "name": "ipython",
    "version": 3
   },
   "file_extension": ".py",
   "mimetype": "text/x-python",
   "name": "python",
   "nbconvert_exporter": "python",
   "pygments_lexer": "ipython3",
   "version": "3.9.15"
  }
 },
 "nbformat": 4,
 "nbformat_minor": 5
}
