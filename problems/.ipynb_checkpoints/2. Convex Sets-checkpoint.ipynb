{
 "cells": [
  {
   "cell_type": "markdown",
   "id": "e2737ebd-bd61-428a-b5ea-1d3ddcddfbd8",
   "metadata": {},
   "source": [
    "### Problem 1.4\n",
    "\n",
    "(Convex sets) Let $f_1 : R^d \\rightarrow R$ and $f_2 : R^d \\rightarrow R$ be convex functions.\n",
    "\n",
    "Let $S_i \\{x : f_i(x) \\le 0 \\}$ if convex for $i = \\{1, 2\\}$. Show that $S = S_1 \\cap S_2$ is convex."
   ]
  },
  {
   "cell_type": "markdown",
   "id": "322d523c-4ad8-48b5-9cbf-d6bf0cbea3fd",
   "metadata": {},
   "source": [
    "[Def]\n",
    "\n",
    "A set $S$ is said to be convex if\n",
    "\n",
    "$x, y \\in S \\rightarrow \\lambda{x} + (1-\\lambda)y \\in S, \\forall \\lambda \\in [0,1]$\n",
    "\n",
    "$f(x)$ is convex when\n",
    "\n",
    "1. The domain of $f(x)$ is convex\n",
    "2. $\\forall x, y \\in dom{f}, \\forall \\lambda \\in [0,1], f(\\lambda{x} + (1-\\lambda)y) \\le \\lambda{f(x)} + (1-\\lambda)f(y)$\n",
    "\n",
    "[Sol]\n",
    "\n",
    "Suppose that $x \\in S_1 \\cap S_2, y \\in S_1 \\cap S_2$ which satisfies following properties because of the definition of each set $S_i$\n",
    "\n",
    "\\begin{align*}\n",
    "  f_{1}(x) \\le 0 \\\\\n",
    "  f_{1}(y) \\le 0 \\\\\n",
    "  f_{2}(x) \\le 0 \\\\\n",
    "  f_{2}(y) \\le 0 \\\\\n",
    "\\end{align*}\n",
    "\n",
    "Because $f_i$ is a convex function and $x \\in dom{f_1}, y \\in dom{f_1}$\n",
    "\n",
    "$\\exists{\\lambda} \\in [0,1] s.t. f_1(\\lambda{x} + (1-\\lambda)y \\le \\lambda{f_1 (x)} + (1-\\lambda)f_1 (y) \\le 0$\n",
    "\n",
    "It means that $f_1 (\\lambda{x} + (1- \\lambda)y) \\le 0 \\rightarrow \\lambda{x} + (1- \\lambda)y \\in S_1$\n",
    "\n",
    "WLOG, it means that $f_2 (\\lambda{x} + (1- \\lambda)y) \\le 0 \\rightarrow \\lambda{x} + (1- \\lambda)y \\in S_2$\n",
    "\n",
    "Therefore, $x \\in S_1 \\cap S_2, y \\in S_1 \\cap S_2 \\rightarrow \\lambda{x} + (1- \\lambda)y \\in S$"
   ]
  },
  {
   "cell_type": "markdown",
   "id": "70e5ac4f-1a24-48b6-aaa7-c940a77ba4b0",
   "metadata": {},
   "source": [
    "---------------------------------------------------------------------------\n",
    "\n",
    "Suppose $S_1$ and $S_2$ are arbitrary convex sets. Prove that $S = S_1 \\cap S_2$ is convex.\n",
    "\n",
    "[Sol]\n",
    "\n",
    "Let $x \\in S_1 \\cap S_2, y \\in S_1 \\cap S_2$.\n",
    "\n",
    "Because $x \\in S_1, y \\in S_1, \\lambda{x} + (1-\\lambda)y \\in S_1, \\forall \\lambda \\in [0,1]$.\n",
    "\n",
    "WLOG, $\\lambda{x} + (1-\\lambda)y \\in S_2$.\n",
    "\n",
    "$\\therefore x \\in S_1 \\cap S_2, y \\in S_1 \\cap S_2 \\rightarrow \\lambda{x} + (1 - \\lambda)y \\in S_1 \\cap S_2,  \\forall \\lambda \\in [0,1]$, which implies $S = S_1 \\cap S_2$ is convex"
   ]
  },
  {
   "cell_type": "markdown",
   "id": "3230ba71-72da-42c8-a6c4-a8cf698cfd65",
   "metadata": {},
   "source": [
    "---------------------------------------------------------------------------\n",
    "\n",
    "Suppose $f : R^d \\rightarrow R$ be a concave function. A student claims that $C = \\{x : f(x) \\le 0 \\}$ is not convex. Prove or disprove the claim\n",
    "\n",
    "[Sol]\n",
    "\n",
    "Disprove.\n",
    "\n",
    "Suppose $f(x) = -x^Tx, \\forall x \\in dom{f}$ which is a concave function.\n",
    "\n",
    "Corresponding set $C = \\{x : f(x) \\le 0 \\} = R$.\n",
    "\n",
    "Since $R$ is a convex set, the student's opinion is refuted."
   ]
  },
  {
   "cell_type": "code",
   "execution_count": null,
   "id": "37896f0a-e470-4651-be38-4cecebefff75",
   "metadata": {},
   "outputs": [],
   "source": []
  }
 ],
 "metadata": {
  "kernelspec": {
   "display_name": "Python 3 (ipykernel)",
   "language": "python",
   "name": "python3"
  },
  "language_info": {
   "codemirror_mode": {
    "name": "ipython",
    "version": 3
   },
   "file_extension": ".py",
   "mimetype": "text/x-python",
   "name": "python",
   "nbconvert_exporter": "python",
   "pygments_lexer": "ipython3",
   "version": "3.9.15"
  }
 },
 "nbformat": 4,
 "nbformat_minor": 5
}
