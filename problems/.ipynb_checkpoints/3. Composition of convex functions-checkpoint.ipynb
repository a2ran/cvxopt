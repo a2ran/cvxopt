{
 "cells": [
  {
   "cell_type": "markdown",
   "id": "1780418a-43f3-4aed-9432-14561ef0b060",
   "metadata": {},
   "source": [
    "### Problem 1.6\n",
    "\n",
    "Let $f : R^d -> R$ be a real-valued function. The same holds for $g, f_1, f_2$.\n",
    "\n",
    "Show that if the functions $f(x)$ and $g(x)$ are convex, so if $f(x) + g(x)$\n",
    "\n",
    "[Def]\n",
    "\n",
    "The set $S$ is said to be convex if\n",
    "\n",
    "$x, y \\in S \\rightarrow \\lambda x + (1 - \\lambda)y \\in S, \\forall \\lambda \\in [0,1]$\n",
    "\n",
    "The function $f(x)$ is said to be convex if\n",
    "\n",
    "1. The domain of $f(x)$ is convex\n",
    "2. $\\forall x, y \\in dom{f}, \\forall \\lambda \\in [0,1], f(\\lambda x + (1-\\lambda)y) \\le \\lambda f(x) + (1-\\lambda)f(y)$"
   ]
  },
  {
   "cell_type": "markdown",
   "id": "8c929d51-3d65-41d0-bba4-7382c5811f2f",
   "metadata": {},
   "source": [
    "[Sol]\n",
    "\n",
    "since $f(x)$ and $g(x)$ are convex, $dom{f}$ and $dom{g}$ are convex sets.\n",
    "\n",
    "And since $S = S_1 \\cap S_2$ is a convex set, $dom{(f + g)}$ is a convex set.\n",
    "\n",
    "Let $h(x) = f(x) + g(x)$,\n",
    "\n",
    "$h(\\lambda x + (1 - \\lambda)y) \\le \\lambda f(x) + (1-\\lambda)f(y) + \\lambda g(x) + (1-\\lambda)g(y)$\n",
    "\n",
    "$= \\lambda (f(x) + g(x)) + (1-\\lambda)(f(y) + g(y))$\n",
    "\n",
    "$= \\lambda h(x) + (1-\\lambda)h(y)$\n",
    "\n",
    "Thus, $f(x) + g(x)$ is a convex function."
   ]
  },
  {
   "cell_type": "markdown",
   "id": "ecce391e-2668-45a6-84a5-033e05bdee07",
   "metadata": {},
   "source": [
    "---------------------\n",
    "\n",
    "Let $A$ and $b$ be a matrix and a vector of compatible size. SHow that if $f(x)$ is convex, so is $f(Ax + b)$\n",
    "\n",
    "[Sol]\n",
    "\n"
   ]
  },
  {
   "cell_type": "code",
   "execution_count": null,
   "id": "bbc25dc9-a5c9-4e38-9e95-e096b1bd3011",
   "metadata": {},
   "outputs": [],
   "source": []
  }
 ],
 "metadata": {
  "kernelspec": {
   "display_name": "Python 3 (ipykernel)",
   "language": "python",
   "name": "python3"
  },
  "language_info": {
   "codemirror_mode": {
    "name": "ipython",
    "version": 3
   },
   "file_extension": ".py",
   "mimetype": "text/x-python",
   "name": "python",
   "nbconvert_exporter": "python",
   "pygments_lexer": "ipython3",
   "version": "3.9.15"
  }
 },
 "nbformat": 4,
 "nbformat_minor": 5
}
