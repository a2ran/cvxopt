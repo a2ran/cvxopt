{
 "cells": [
  {
   "cell_type": "markdown",
   "id": "ac557a61-29f0-4c29-bcea-8d115e207455",
   "metadata": {},
   "source": [
    "Let $x, w \\in R^d$, and $\\sigma(t) := \\frac{1}{1 + e^{-t}}, t \\in R$\n",
    "\n",
    "A student claims that $L(w) := -log \\sigma (w^Tx)$ is convex in $w$. Prove or disprove the claim."
   ]
  },
  {
   "cell_type": "markdown",
   "id": "df562111-ef52-4c8c-aa7f-bd6d7e632f53",
   "metadata": {},
   "source": [
    "[Sol]\n",
    "\n",
    "$L(w) = -log \\sigma (w^Tx) = -log (\\frac{1}{1 + e^{-w^Txx}}) = log(1 + e^{-w^Tx})$.\n",
    "\n",
    "Let $f(t) = log(1 + e^{-t})$.\n",
    "\n",
    "$f'(t) = \\frac{-e^{-t}}{1 + e^{-t}}$\n",
    "\n",
    "$f''(t) = \\frac{e^{-t}}{(1+e^{-t})^2} \\ge 0$\n",
    "\n",
    "Since $f''(t) \\ge 0$, $f(t)$ is convex.\n",
    "\n",
    "Let $h(w) = f(w^Tx)$\n",
    "\n",
    "$h(\\lambda w_1 + (1 - \\lambda)w_2) = f((\\lambda w_1 + (1 - \\lambda)w_2)^Tx) = f(\\lambda w_1^Tx + (1 - \\lambda)w_2^Tx)$\n",
    "\n",
    "$\\le \\lambda f(w_1^Tx) + (1 - \\lambda) f(w_2^Tx)$\n",
    "\n",
    "$= \\lambda h(w_1) + (1 - \\lambda) h(w_2)$\n",
    "\n",
    "$\\therefore$ $L(w)$ is convex."
   ]
  },
  {
   "cell_type": "markdown",
   "id": "8b56580f-bafd-4f6d-8233-c0243a8ed3da",
   "metadata": {},
   "source": [
    "---------------\n",
    "\n",
    "A student claims that $L(w) := log(1 - \\sigma (w^Tx)$ is convex in $w$. Prove or disprove the claim\n",
    "\n",
    "$L(w) = log(1 - \\frac{1}{1 + e^{-w^Tx}}) = log(\\frac{e^{-w^Tx}}{1 + e^{-w^Tx}}) = -w^Tx - log(1 + e^{-w^Tx}) = -(w^Tx + log(1 + e^{-w^Tx}))$.\n",
    "\n",
    "Since $w^Tx$ is affine and $log(1 + e^{-w^Tx})$ is convex, $w^Tx + log(1 + e^{-w^Tx})$ is convex.\n",
    "\n",
    "Thus, $-(w^Tx + log(1 + e^{-w^Tx}))$ is concave."
   ]
  },
  {
   "cell_type": "code",
   "execution_count": null,
   "id": "5b03cf5a-b78e-416f-a6b9-27206d320006",
   "metadata": {},
   "outputs": [],
   "source": []
  }
 ],
 "metadata": {
  "kernelspec": {
   "display_name": "Python 3 (ipykernel)",
   "language": "python",
   "name": "python3"
  },
  "language_info": {
   "codemirror_mode": {
    "name": "ipython",
    "version": 3
   },
   "file_extension": ".py",
   "mimetype": "text/x-python",
   "name": "python",
   "nbconvert_exporter": "python",
   "pygments_lexer": "ipython3",
   "version": "3.9.15"
  }
 },
 "nbformat": 4,
 "nbformat_minor": 5
}
