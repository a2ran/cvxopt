{
 "cells": [
  {
   "cell_type": "markdown",
   "id": "30674e2c-c09f-4cd6-824d-0f820edfaa8c",
   "metadata": {},
   "source": [
    "Prove that a differentiable function $f$ is convex if and only if $dom{f}$ is convex and $f(y) \\ge f(x) + \\nabla f(x)^T(y-x)$ holds $\\forall x,y \\in dom{f}$.\n",
    "\n",
    "[Sol]\n",
    "\n",
    "1. Forward proof\n",
    "\n",
    "Suppose $f$ is convex. By definition of a convex function, $dom{f}$ is convex.\n",
    "\n",
    "Let $x, y \\in dom{f}$ and $\\theta \\in [0,1]$. Define $u = y - x$.\n",
    "\n",
    "$f((1 - \\theta)x + \\theta{y}) \\le (1 - \\theta)f(x) + \\theta{f(y)}$\n",
    "\n",
    "$f(x + \\theta(y-x)) \\le f(x) + \\theta(f(y) - f(x))$\n",
    "\n",
    "$\\frac{f(x + \\theta(y-x)) - f(x)}{\\theta} \\le f(y) - f(x)$\n",
    "\n",
    "$\\frac{f(x + \\theta(u)) - f(x)}{\\theta} \\le f(y) - f(x)$\n",
    "\n",
    "$\\langle \\nabla f(x), u \\rangle + f(x) \\le f(y)$\n",
    "\n",
    "$\\therefore \\langle \\nabla f(x), y-x  \\rangle + f(x) \\le f(y)$\n",
    "\n",
    "2. Reverse proof\n",
    "\n",
    "Suppose $dom{f}$ is convex and $f(y) \\ge f(x) + \\nabla f(x)^T(y-x)$.\n",
    "\n",
    "Let $x, y \\in dom{f}$ and $\\theta \\in [0,1]$.\n",
    "\n",
    "By the convexity of $dom{f}$, $z = \\theta x + (1 - \\theta)y \\in dom{f}$.\n",
    "\n",
    "At the same time, we can apply the inequality as follows\n",
    "\n",
    "$f(x) \\ge f(z) + \\nabla f(z)^T(x-z)$\n",
    "\n",
    "$f(y) \\ge f(z) + \\nabla f(z)^T(y-z)$\n",
    "\n",
    "$f$ is convex since\n",
    "\n",
    "$\\theta f(x) + (1 - \\theta) f(y) \\ge \\theta(f(z) + \\nabla f(z)^T(x-z)) + (1 - \\theta)(f(z) + \\nabla f(z)^T(y-z))$\n",
    "\n",
    "$= \\theta f(z) + \\nabla f(z)^T(\\theta x - \\theta z) + (1 - \\theta)f(z) + \\nabla f(z)^T ((1 - \\theta)y - (1 - \\theta)z)$\n",
    "\n",
    "$= f(z) + \\nabla f(z)^T(\\theta x + (1 - \\theta)y - z)$\n",
    "\n",
    "$= f(z) \\text{   } (\\because z = \\theta x + (1 - \\theta)y)$\n",
    "\n",
    "$= f(\\theta x + (1-\\theta)y)$"
   ]
  },
  {
   "cell_type": "code",
   "execution_count": null,
   "id": "4dc69ae9-f110-4bfc-9f08-9e0bcf640015",
   "metadata": {},
   "outputs": [],
   "source": []
  }
 ],
 "metadata": {
  "kernelspec": {
   "display_name": "Python 3 (ipykernel)",
   "language": "python",
   "name": "python3"
  },
  "language_info": {
   "codemirror_mode": {
    "name": "ipython",
    "version": 3
   },
   "file_extension": ".py",
   "mimetype": "text/x-python",
   "name": "python",
   "nbconvert_exporter": "python",
   "pygments_lexer": "ipython3",
   "version": "3.9.15"
  }
 },
 "nbformat": 4,
 "nbformat_minor": 5
}
