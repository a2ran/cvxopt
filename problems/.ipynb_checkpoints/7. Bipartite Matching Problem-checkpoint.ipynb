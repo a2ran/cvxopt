{
 "cells": [
  {
   "cell_type": "markdown",
   "id": "ba766e78-fb43-40a7-a641-deaeb351873f",
   "metadata": {},
   "source": [
    "<img src = \"./img/7_1.png\" style = \"width : 700px;\">\n",
    "\n",
    "Formulate a Boolean optimization problem. Derive the optimal value $p^*$ and the optimal solution $x^*$.\n",
    "\n",
    "[Sol]\n",
    "\n",
    "$w \\in R^9, w = \\begin{bmatrix}\n",
    "w_{11} \\\\\n",
    "w_{12} \\\\\n",
    "w_{13} \\\\\n",
    "w_{21} \\\\\n",
    "... \\\\\n",
    "\\end{bmatrix}$\n",
    "\n",
    "$x \\in R^9, x = \\begin{bmatrix}\n",
    "x_{11} \\\\\n",
    "x_{12} \\\\\n",
    "x_{13} \\\\\n",
    "x_{21} \\\\\n",
    "... \\\\\n",
    "\\end{bmatrix}$\n",
    "\n",
    "$A = 0, b = 0, e = 1_6$\n",
    "\n",
    "$C = \\begin{bmatrix}\n",
    "1\\ 1\\ 1\\ 0\\ 0\\ 0\\ 0\\ 0\\ 0 \\\\\n",
    "0\\ 0\\ 0\\ 1\\ 1\\ 1\\ 0\\ 0\\ 0 \\\\\n",
    "0\\ 0\\ 0\\ 0\\ 0\\ 0\\ 1\\ 1\\ 1 \\\\\n",
    "1\\ 0\\ 0\\ 1\\ 0\\ 0\\ 1\\ 0\\ 0 \\\\\n",
    "0\\ 1\\ 0\\ 0\\ 1\\ 0\\ 0\\ 1\\ 0 \\\\\n",
    "0\\ 0\\ 1\\ 0\\ 0\\ 1\\ 0\\ 0\\ 1 \\\\\n",
    "\\end{bmatrix}$"
   ]
  },
  {
   "cell_type": "markdown",
   "id": "e6891417-eafa-422c-bbdc-129cccef87b8",
   "metadata": {},
   "source": [
    "Boolean Optimization problem :\n",
    "\n",
    "$\\begin{align*}\n",
    "    p^* := \\text{min}w^Tx : \\quad & Ax - b \\le 0 \\\\\n",
    "    & Cx - e = 0 \\\\\n",
    "    & x_i \\in \\{0,1\\} \\quad & \\forall i \\in [9] \\\\\n",
    "\\end{align*}$\n",
    "\n",
    "LP Relaxation :\n",
    "\n",
    "$\\begin{align*}\n",
    "    p_{LP}^* := \\min w^Tx : \\quad & Ax - b \\le 0 \\\\\n",
    "    & Cx - e = 0 \\\\\n",
    "    & x_i \\in [0,1] \\quad & \\forall i \\in [9] \\\\\n",
    "\\end{align*}$"
   ]
  },
  {
   "cell_type": "code",
   "execution_count": null,
   "id": "110ddb29-3f7f-4b04-b7ac-e58e5491f4d0",
   "metadata": {},
   "outputs": [],
   "source": [
    "### cvxpy code\n",
    "\n",
    "x = cp.Variable(9, boolean = True)\n",
    "w = np.array(\n",
    "    [[1,2,4], [1,4,2], [1,3,3]]\n",
    ").reshape(-1)\n",
    "\n",
    "c = np.array(\n",
    "    ###\n",
    ")\n",
    "\n",
    "e = np.ones(6)\n",
    "\n",
    "constraints = [\n",
    "    c@x == e\n",
    "]\n",
    "\n",
    "objective = cp.Minimize((w@x))\n",
    "\n",
    "problem = cp.Problem(objective, constraints)\n",
    "\n",
    "print(f\"Solution : {problem.solve()}\")\n",
    "print(f\"Optimal point : {x.value}\")\n",
    "\n",
    "### If LP Relaxed, change constraints to\n",
    "\n",
    "# constraints = [\n",
    "#     c@x == e\n",
    "#     0 <= x, x <= 1\n",
    "# ]"
   ]
  }
 ],
 "metadata": {
  "kernelspec": {
   "display_name": "Python 3 (ipykernel)",
   "language": "python",
   "name": "python3"
  },
  "language_info": {
   "codemirror_mode": {
    "name": "ipython",
    "version": 3
   },
   "file_extension": ".py",
   "mimetype": "text/x-python",
   "name": "python",
   "nbconvert_exporter": "python",
   "pygments_lexer": "ipython3",
   "version": "3.9.15"
  }
 },
 "nbformat": 4,
 "nbformat_minor": 5
}
