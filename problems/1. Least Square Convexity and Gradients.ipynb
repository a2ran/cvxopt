{
 "cells": [
  {
   "cell_type": "markdown",
   "id": "863d07e7-83f2-4732-b747-cca84a785e76",
   "metadata": {},
   "source": [
    "### Problem 1.1 (b)\n",
    "\n",
    "Let $A := [a_1 \\cdot\\cdot\\cdot a_m]^T$ and $b := [b_1 \\cdot\\cdot\\cdot b_m]^T$ where $a_i \\in R^d$ and $b_i \\in R$, $i \\in \\{1, \\cdot\\cdot\\cdot m \\}$. Consider a function $f : R^d \\rightarrow R$ : $f(x) = \\left|Ax-b \\right|^2$. Using only the definition of a convex function, show that $f(x)$ is convex in $x \\in R^d$."
   ]
  },
  {
   "cell_type": "markdown",
   "id": "ca284929-eb5b-46f2-a813-4c9a6a640f06",
   "metadata": {},
   "source": [
    "[Sol]\n",
    "\n",
    "A function $f(x)$ is said to be convex if\n",
    "\n",
    "1. the domain of $f(x)$ is convex\n",
    "2. $\\forall x_1, x_2 \\in dom{f}$, $\\forall \\lambda \\in [0,1]$, $f(\\lambda{x_1} + (1-\\lambda)x_2) \\le \\lambda{f(x_1)} + (1-\\lambda)f(x_2)$"
   ]
  },
  {
   "cell_type": "markdown",
   "id": "ab3804b0-81e5-4219-92f9-57fe7e8233da",
   "metadata": {},
   "source": [
    "We can observe that $\\forall x_1, x_2 \\in R^d$, $\\lambda{x_1} + (1-\\lambda){x_2} \\in R^d$, $\\forall \\lambda \\in [0,1]$\n",
    "\n",
    "We need to show that $f(\\lambda{x_1} + (1-\\lambda)x_2) - (\\lambda{f(x_1)} + (1-\\lambda)f(x_2)) \\le 0$\n",
    "\n",
    "$\\left|A(\\lambda{x_1} + (1-\\lambda)x_2) -b \\right|^2 - (\\lambda{\\left|Ax_1 - b \\right|^2} + (1-\\lambda)\\left|Ax_2 - b \\right|^2)$\n",
    "\n",
    "$\\cdot\\cdot\\cdot$\n",
    "\n",
    "$= -\\lambda(1-\\lambda)(x_1^TA^TAx_1 - x_1^TA^TAx_2 - x_2^TA^TAx_1 + x_2^TA^TAx_2)$\n",
    "\n",
    "$= -\\lambda(1-\\lambda)(x_1-x_2)^TA^TA(x_1-x_2)$\n",
    "\n",
    "$= -\\lambda(1-\\lambda)\\left|A(x_1 - x_2)\\right|^2 \\le 0$\n",
    "\n",
    "Since $\\lambda \\ge 0, 1 - \\lambda \\ge 0, \\left|A(x_1 - x_2)\\right|^2 \\ge 0$\n",
    "\n",
    "Thus $f(x) = \\left|Ax - b\\right|^2$ is convex in $x$"
   ]
  },
  {
   "cell_type": "markdown",
   "id": "4111381e-c74b-402e-aa62-861b6676023a",
   "metadata": {},
   "source": [
    "### Problem 1.2\n",
    "\n",
    "(Basics on gradients) Let $f: R^d \\rightarrow R$ be a differentiable function. Let $x = [x_1, x_2, \\cdot\\cdot\\cdot, x_d]^T \\in R^d, B \\in R^{d\\cdot{d}}$ and $c \\in R^d$\n",
    "\n",
    "Explain the concept of gradient $\\nabla f$ with respect to $x$ (or denoted by $\\nabla_{x}f$)"
   ]
  },
  {
   "cell_type": "markdown",
   "id": "ac6f581b-9f3a-404e-88bb-a187c12c533c",
   "metadata": {},
   "source": [
    "[Sol]\n",
    "\n",
    "Gradient of function $f$ w.r.t. $x$ describes the change of function value in the direction of $x$. For $x = [x_1, x_2, \\cdot\\cdot\\cdot, x_d]^T \\in R^d, c \\in R^d$\n",
    "\n",
    "$\\nabla_{x}f = \\begin{bmatrix}\n",
    "\\frac{\\partial f}{\\partial x_1} \\\\\n",
    "\\frac{\\partial f}{\\partial x_2} \\\\\n",
    "... \\\\\n",
    "\\frac{\\partial f}{\\partial x_d} \\\\\n",
    "\\end{bmatrix}$"
   ]
  },
  {
   "cell_type": "markdown",
   "id": "f13567dc-a31e-48ed-9179-dcf69802c1b4",
   "metadata": {},
   "source": [
    "---------------------------------------------------------------------------\n",
    "\n",
    "Suppose $f(x) = x^TBx$. Derive $\\nabla f$ w.r.t $x$. Show all of your detailed derivation."
   ]
  },
  {
   "cell_type": "markdown",
   "id": "7a84c1fb-7011-4f27-b9cc-5c9215041b04",
   "metadata": {},
   "source": [
    "[Sol]\n",
    "\n",
    "Let us define column vector of $B$ and $B_j in R^d$ and element of $x$ as $x_i \\in R$\n",
    "\n",
    "$f(x) = x^TBx = x[B_1, B_2, \\cdot\\cdot\\cdot, B_d]x$\n",
    "\n",
    "$= x^T[x_1B_1 + x_2B_2 + \\cdot\\cdot\\cdot + x_dB_d]$\n",
    "\n",
    "$= \\sum_{j=1}^d x_j (\\sum_{i=1}^d x_i B_{ij}) = \\sum_{j=1}^d \\sum_{i=1}^d x_j x_i B_{ij}$\n",
    "\n",
    "$\\nabla_{x}f = \\begin{bmatrix}\n",
    "x^TB_1 + x^T(B^T)_1 \\\\\n",
    "x^TB_2 + x^T(B^T)_2 \\\\\n",
    "... \\\\\n",
    "x^TB_d + x^T(B^T)_d \\\\\n",
    "\\end{bmatrix}$\n",
    "\n",
    "$\\therefore \\nabla_{x}f = (B^T + B)x$"
   ]
  },
  {
   "cell_type": "code",
   "execution_count": null,
   "id": "22a17f86-9c4a-480e-8385-3de4cad7deda",
   "metadata": {},
   "outputs": [],
   "source": []
  }
 ],
 "metadata": {
  "kernelspec": {
   "display_name": "Python 3 (ipykernel)",
   "language": "python",
   "name": "python3"
  },
  "language_info": {
   "codemirror_mode": {
    "name": "ipython",
    "version": 3
   },
   "file_extension": ".py",
   "mimetype": "text/x-python",
   "name": "python",
   "nbconvert_exporter": "python",
   "pygments_lexer": "ipython3",
   "version": "3.9.15"
  }
 },
 "nbformat": 4,
 "nbformat_minor": 5
}
