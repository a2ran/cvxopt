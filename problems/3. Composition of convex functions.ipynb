{
 "cells": [
  {
   "cell_type": "markdown",
   "id": "1780418a-43f3-4aed-9432-14561ef0b060",
   "metadata": {},
   "source": [
    "### Problem 1.6\n",
    "\n",
    "Let $f : R^d -> R$ be a real-valued function. The same holds for $g, f_1, f_2$.\n",
    "\n",
    "Show that if the functions $f(x)$ and $g(x)$ are convex, so if $f(x) + g(x)$\n",
    "\n",
    "[Def]\n",
    "\n",
    "The set $S$ is said to be convex if\n",
    "\n",
    "$x, y \\in S \\rightarrow \\lambda x + (1 - \\lambda)y \\in S, \\forall \\lambda \\in [0,1]$\n",
    "\n",
    "The function $f(x)$ is said to be convex if\n",
    "\n",
    "1. The domain of $f(x)$ is convex\n",
    "2. $\\forall x, y \\in dom{f}, \\forall \\lambda \\in [0,1], f(\\lambda x + (1-\\lambda)y) \\le \\lambda f(x) + (1-\\lambda)f(y)$"
   ]
  },
  {
   "cell_type": "markdown",
   "id": "8c929d51-3d65-41d0-bba4-7382c5811f2f",
   "metadata": {},
   "source": [
    "[Sol]\n",
    "\n",
    "since $f(x)$ and $g(x)$ are convex, $dom{f}$ and $dom{g}$ are convex sets.\n",
    "\n",
    "And since $S = S_1 \\cap S_2$ is a convex set, $dom{(f + g)}$ is a convex set.\n",
    "\n",
    "Let $h(x) = f(x) + g(x)$,\n",
    "\n",
    "$h(\\lambda x + (1 - \\lambda)y) \\le \\lambda f(x) + (1-\\lambda)f(y) + \\lambda g(x) + (1-\\lambda)g(y)$\n",
    "\n",
    "$= \\lambda (f(x) + g(x)) + (1-\\lambda)(f(y) + g(y))$\n",
    "\n",
    "$= \\lambda h(x) + (1-\\lambda)h(y)$\n",
    "\n",
    "Thus, $f(x) + g(x)$ is a convex function."
   ]
  },
  {
   "cell_type": "markdown",
   "id": "ecce391e-2668-45a6-84a5-033e05bdee07",
   "metadata": {},
   "source": [
    "---------------------\n",
    "\n",
    "Let $A$ and $b$ be a matrix and a vector of compatible size. Show that if $f(x)$ is convex, so is $f(Ax + b)$\n",
    "\n",
    "[Sol]\n",
    "\n",
    "Since $f(x)$ is convex, $Ax + b, Ay + b \\in dom{f}$ \n",
    "\n",
    "$\\forall \\lambda \\in [0,1]$, Let $h(x) = f(Ax + b)$\n",
    "\n",
    "$h(\\lambda x + (1 - \\lambda)y) = f(A(\\lambda x + (1 - \\lambda)y) + b)$\n",
    "\n",
    "$= f(\\lambda Ax + (1 - \\lambda)Ay + (\\lambda + (1 - \\lambda)b)) = f(\\lambda (Ax + b) + (1-\\lambda) (Ay + b))$\n",
    "\n",
    "$\\le \\lambda{f(Ax + b)} + (1 - \\lambda)f(Ay + b) = \\lambda{h(x)} + (1-\\lambda)h(y)$\n",
    "\n",
    "$\\therefore$ $f(Ax + b)$ is convex."
   ]
  },
  {
   "cell_type": "markdown",
   "id": "e9eadefe-f851-4ff7-ab33-d28a1d1e2de2",
   "metadata": {},
   "source": [
    "------------------\n",
    "\n",
    "Show that if $f_1$ and $f_2$ are convex, so is $\\max\\{f_1(x), f_2(x)\\}$\n",
    "\n",
    "[Sol]\n",
    "\n",
    "Since $f_1$ and $f_2$ are convex, $dom{f_1}$ and $dom{f_2}$ are convex sets.\n",
    "\n",
    "And since $dom{f_1}$ and $dom{f_2}$ are convex sets, $\\max\\{dom{f_1}, dom{f_2}\\}$ is convex set.\n",
    "\n",
    "$\\forall \\lambda \\in [0, 1]$, Let $h(x) = \\max\\{f_1(x), f_2(x)\\}$\n",
    "\n",
    "$h(\\lambda x + (1 - \\lambda)y) = \\max\\{f_1(\\lambda x + (1 - \\lambda)y), f_2(\\lambda x + (1 - \\lambda)y)\\}$\n",
    "\n",
    "$\\le \\max\\{ \\lambda f_1(x) + (1 - \\lambda) f_1(y), \\lambda f_2(x) + (1 - \\lambda) f_2(y) \\}$\n",
    "\n",
    "$\\le \\lambda \\max \\{f_1(x), f_2(x)  \\} + (1 - \\lambda) \\max \\{f_1(x), f_2(x)  \\}$\n",
    "\n",
    "$= \\lambda h(x) + (1 - \\lambda) h(y)$\n",
    "\n",
    "$\\therefore$ $\\max\\{f_1(x), f_2(x)\\}$ is convex."
   ]
  },
  {
   "cell_type": "markdown",
   "id": "f93243e6-ad7e-4e47-b4c8-c1fe0c6b9b14",
   "metadata": {},
   "source": [
    "----------\n",
    "\n",
    "Show that if $f(x)$ is convex, then $-log(-f(x))$ is convex on $\\{x:f(x) < 0\\}$.\n",
    "\n",
    "[Sol]\n",
    "\n",
    "Since $\\nabla_x -log(x) = -\\frac{1}{x}$, $-log{x}$ is differentiable.\n",
    "\n",
    "Let $f(x) = - log x$.\n",
    "\n",
    "We need to check whether $f(x) \\ge \\nabla f(x^*)(x-x^*) + f(x^*) \\forall x, x^* \\in dom{f}$.\n",
    "\n",
    "$-log x - (-\\frac{1}{x^*}(x - x^*) - log x^*) = -log \\frac{x}{x^*} + \\frac{x}{x^*} - 1 \\ge 0$\n",
    "\n",
    "Let $\\frac{x}{x^*} = y$.\n",
    "\n",
    "Then $(-log y + y - 1)' = -\\frac{1}{y} + 1 = \\frac{y-1}{y}$ becomes $0$ at $y = 1$.\n",
    "\n",
    "Thus, $-log y + y - 1$ has minimum value at $y = 1$ with value $0$. \n",
    "\n",
    "$\\therefore -log \\frac{x}{x^*} + \\frac{x}{x^*} - 1 \\ge 0$\n",
    "\n",
    "So, $x^* \\in dom{f}$\n",
    "\n",
    "Let $h(x) = -log(-f(x))$,\n",
    "\n",
    "$h(\\lambda x + (1 - \\lambda)y) = -log(-f(\\lambda x + (1 - \\lambda)y))$\n",
    "\n",
    "$\\le -log(-\\lambda f(x) - (1 - \\lambda)f(y))$\n",
    "\n",
    "$\\le \\lambda \\{-log(-f(x)) \\} + (1 - \\lambda)\\{-log(-f(y)) \\}$\n",
    "\n",
    "$= \\lambda h(x) + (1 - \\lambda) h(y)$\n",
    "\n",
    "$\\therefore$ $-log(-f(x))$ is convex."
   ]
  },
  {
   "cell_type": "code",
   "execution_count": null,
   "id": "6a2d5688-9799-440d-82cf-557bc27b8d30",
   "metadata": {},
   "outputs": [],
   "source": []
  }
 ],
 "metadata": {
  "kernelspec": {
   "display_name": "Python 3 (ipykernel)",
   "language": "python",
   "name": "python3"
  },
  "language_info": {
   "codemirror_mode": {
    "name": "ipython",
    "version": 3
   },
   "file_extension": ".py",
   "mimetype": "text/x-python",
   "name": "python",
   "nbconvert_exporter": "python",
   "pygments_lexer": "ipython3",
   "version": "3.9.15"
  }
 },
 "nbformat": 4,
 "nbformat_minor": 5
}
