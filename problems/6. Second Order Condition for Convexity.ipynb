{
 "cells": [
  {
   "cell_type": "markdown",
   "id": "0297ef88-f03f-45db-b763-8a4755430648",
   "metadata": {},
   "source": [
    "Prove that a twice differentiable function $f$ is convex if and only if $dom{f}$ is convex \n",
    "\n",
    "and $\\nabla^2 f(x) \\ge 0$ for all $x \\in dom{f}$"
   ]
  },
  {
   "cell_type": "markdown",
   "id": "40c64389-3913-41e7-b101-366ba17699b4",
   "metadata": {},
   "source": [
    "[Sol]\n",
    "\n",
    "1. Forward Proof\n",
    "\n",
    "If $f$ is convex, by the First Order Condition, $\\forall x \\in dom{f}, h > 0$:\n",
    "\n",
    "$f(x+h) - f(x) \\ge f'(x)h$ and $f(x) - f(x+h) \\ge f'(x+h)(-h)$\n",
    "\n",
    "Hence, $f'(x+h) \\ge \\frac{f(x+h)-f(x)}{h} \\ge f'(x)$, which means that $f'$ is non-decreasing, hence $f''$ is non-negative.\n",
    "\n",
    "2. Reverse Proof\n",
    "\n",
    "Suppose $f''$ is non-negative. By Taylor's theorem, we have $\\forall x,y \\in dom{f}, \\exists z \\in [x,y]$ such that:\n",
    "\n",
    "$f(y) = f(x) + f'(x)(y-x) + \\frac{1}{2}f''(z)(y-x)^2$\n",
    "\n",
    "Therefore, $f(y) \\ge f(x) + f'(x)(y-x)$, which is the first order condition of convexity. Thus $f$ is convex."
   ]
  },
  {
   "cell_type": "markdown",
   "id": "d1bb6249-d057-4cdb-a0c9-1524d107da05",
   "metadata": {},
   "source": [
    "---------\n",
    "\n",
    "General Case where $dom{f} \\in R^d$\n",
    "\n",
    "**Lemma 1** : A function $f$ is convex if and only if $dom{f}$ is a convex set and $\\forall x \\in dom{f}, \\nu \\in R$, the real function $g_{x, \\nu}$ is convex, where $g_{x, \\nu}(t) := f(x + t\\nu)$ for all $t \\in R$ such that $x + t\\nu \\in dom{f}$\n",
    "\n",
    "[Proof of Lemma 1]\n",
    "\n",
    "1. Forward Proof\n",
    "\n",
    "Suppose $f$ is convex, by the definition of a convex function, $dom{f}$ is a convex set.\n",
    "\n",
    "$\\forall s, t \\in dom(g_{x, \\nu}), \\theta \\in [0, 1]$, we have $x + s\\nu \\in dom{f}$ and $x + t\\nu \\in dom{f}$.\n",
    "\n",
    "Hence by convexity of $dom{f}$,\n",
    "\n",
    "$\\theta(x + s\\nu) + (1 - \\theta)(x + t\\nu) = x + (\\theta{s} + (1 - \\theta)t)\\nu \\in dom{f}$\n",
    "\n",
    "Therefore, \\theta{s} + (1 - \\theta)t \\in $dom(g_{x, \\nu})$, which means that $dom(g_{x, \\nu})$ is a convex set.\n",
    "\n",
    "Let $s, t \\in dom(g_{x, \\nu}), \\theta \\in [0,1]$,\n",
    "\n",
    "$g_{x, \\nu}(\\theta{s} + (1-\\theta)t) = f(x + (\\theta{s} + (1-\\theta)t)v) = f(\\theta(x + s\\nu) + (1-\\theta)(x + t\\nu))$\n",
    "\n",
    "$\\le \\theta{f(x + s\\nu)} + (1-\\theta)f(x + t\\nu) = \\theta{g_{x, \\nu}}(s) + (1-\\theta)g_{x,\\nu}(t)$\n",
    "\n",
    "Hence, $g_{x, \\nu}$ is convex.\n",
    "\n",
    "2. Reverse Proof\n",
    "\n",
    "Suppose $f$ is not convex and $dom{F}$ is a convex set.\n",
    "\n",
    "Then, $\\exists a, b \\in dom{f}, \\theta \\in [0,1]$ such that\n",
    "\n",
    "$f(\\theta{a} + (1-\\theta)b) > \\theta{f(a)} + (1-\\theta)f(b)$\n",
    "\n",
    "Therefore, \n",
    "\n",
    "$g_{a, b-a}(\\theta) = f(a + \\theta(b-a)) = f(\\theta{b} + (1-\\theta)a) > \\theta{f(a) + (1 - \\theta)f(b)} = \\theta g_{a, b-a}(0) + (1-\\theta)g_{a, b-a}(1)$\n",
    "\n",
    "Hence, $g_{a, b-a}$  is not convex.\n",
    "\n",
    "[Sol]\n",
    "\n",
    "Applying above **Lemma 1**, $f$ is convex if and only if $\\forall x \\in dom{f}, \\nu \\in R^d$, the real function $g_{x, \\nu}(t) = f(x + t\\nu)$ for t such that $x + t\\nu \\in dom{F}$ is convex.\n",
    "\n",
    "By above proof in 1-dimensional case, this is true if and only if\n",
    "\n",
    "$g''_{x, \\nu}(t) = \\nu^T \\nabla^2 f(x + t\\nu)\\nu \\ge 0$\n",
    "\n",
    "Since this is for all $\\nu \\in R^d, x + t\\nu \\in dom{f}$, by taking $t = 0$, we can see that it is equivalent to $\\nabla^2f(x) \\ge 0, \\forall x \\in dom(f)$."
   ]
  },
  {
   "cell_type": "markdown",
   "id": "84d59de8-f439-42a9-8eed-17eb2f86f8a4",
   "metadata": {},
   "source": []
  }
 ],
 "metadata": {
  "kernelspec": {
   "display_name": "Python 3 (ipykernel)",
   "language": "python",
   "name": "python3"
  },
  "language_info": {
   "codemirror_mode": {
    "name": "ipython",
    "version": 3
   },
   "file_extension": ".py",
   "mimetype": "text/x-python",
   "name": "python",
   "nbconvert_exporter": "python",
   "pygments_lexer": "ipython3",
   "version": "3.9.15"
  }
 },
 "nbformat": 4,
 "nbformat_minor": 5
}
