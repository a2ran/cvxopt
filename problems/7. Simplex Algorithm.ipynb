{
 "cells": [
  {
   "cell_type": "markdown",
   "id": "73ac5d81-85f3-491c-9067-4338327b30df",
   "metadata": {},
   "source": [
    "Consider the following LP:\n",
    "\n",
    "\\begin{align*}\n",
    "    \\max \\quad & 4x_1 + 3x_2 \\\\\n",
    "    \\text{such that} \\quad & 2x_1 + 3x_2 \\le 6 \\\\\n",
    "    & -3x_1 + 2x_2 \\le 3 \\\\\n",
    "    & 2x_2 \\le 5 \\\\\n",
    "    & 2x_1 + x_2 \\le 4 \\\\\n",
    "    & x_1 \\ge 0, x_2 \\ge 0 \\\\\n",
    "\\end{align*}\n",
    "\n",
    "Solve this using the simplex algorithm."
   ]
  },
  {
   "cell_type": "markdown",
   "id": "1f6cfa2e-8eef-4c6a-9851-ceb6b305d525",
   "metadata": {},
   "source": [
    "[Sol]\n",
    "\n",
    "\\begin{align*}\n",
    "    \\min \\quad & z \\\\\n",
    "    \\text{such that} \\quad & z - 4x_1 + 3x_2 = 0 \\\\\n",
    "    & 2x_1 + 3x_2 + s_1 = 6 \\\\\n",
    "    & -3x_1 + 2x_2 + s_2 = 3 \\\\\n",
    "    & 2x_2 + s_3 = 5 \\\\\n",
    "    & 2x_1 + x_2 + s_4 = 4 \\\\\n",
    "    & x_1, x_2, s_1, s_2, s_3, s_4 \\ge 0 \\\\\n",
    "\\end{align*}\n",
    "\n",
    "Increase $x_1$ : $x_1 = \\delta \\rightarrow \\delta \\le min\\{3,2 \\} \\rightarrow \\delta = 2, z = 8$\n",
    "\n",
    "Increase $x_2$ : $x_2 = \\delta \\rightarrow \\delta \\le min\\{2,1.5,2.5,4 \\} \\rightarrow \\delta = 1.5, z = 4.5$\n",
    "\n",
    "$\\rightarrow x_1 = 2, z = (2, 0, 2, 9, 5, 0)$\n",
    "\n",
    "$z - x_2 + 2s_4 = 8 \\rightarrow$ perturb $x_2$\n",
    "\n",
    "$2x_1 + x_2 = 2$\n",
    "\n",
    "$2x_2 + s_3 = 5$\n",
    "\n",
    "$7x_2 + 2s_2 = 18$\n",
    "\n",
    "$2x_2 + s_1 = 4$\n",
    "\n",
    "$\\delta \\le \\min\\{1, 2.5, \\frac{18}{7}, 2 \\} \\rightarrow \\delta = 1, z = 9$\n",
    "\n",
    "$\\therefore (1.5, 1, 0, 5.5, 3, 0)$ with $p^* = 9$"
   ]
  },
  {
   "cell_type": "code",
   "execution_count": null,
   "id": "252baf4e-4574-43b7-b772-f402b6d919dc",
   "metadata": {},
   "outputs": [],
   "source": [
    "## cvxpy\n",
    "\n",
    "x = cp.Variable(2)\n",
    "w = np.array([4,3])\n",
    "\n",
    "c = np.array(\n",
    "    [[2,3], [-3,2], [0,2], [2,-1]]\n",
    ")\n",
    "\n",
    "e = np.array(\n",
    "    [6,3,5,4]\n",
    ")\n",
    "\n",
    "constraints = [\n",
    "    c@x <= e,\n",
    "    0 <= x\n",
    "]\n",
    "\n",
    "objective = cp.Maximize((w@x))\n",
    "problem = cp.Problem(objective, constraints)\n",
    "print(f\"Solution : {problem.solve()}\")\n",
    "print(f\"Optimal point : {x.value}\")"
   ]
  }
 ],
 "metadata": {
  "kernelspec": {
   "display_name": "Python 3 (ipykernel)",
   "language": "python",
   "name": "python3"
  },
  "language_info": {
   "codemirror_mode": {
    "name": "ipython",
    "version": 3
   },
   "file_extension": ".py",
   "mimetype": "text/x-python",
   "name": "python",
   "nbconvert_exporter": "python",
   "pygments_lexer": "ipython3",
   "version": "3.9.15"
  }
 },
 "nbformat": 4,
 "nbformat_minor": 5
}
