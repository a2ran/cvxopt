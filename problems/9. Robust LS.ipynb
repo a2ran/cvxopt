{
 "cells": [
  {
   "cell_type": "markdown",
   "id": "4b86e577-1a39-4908-836a-ab6f5f81607c",
   "metadata": {},
   "source": [
    "Consider an LS problem where $A$ has some uncertainty:\n",
    "\n",
    "$$ A = A_0 + A_1\\delta $$\n",
    "\n",
    "where $A_0, A_1 \\in R^{m \\cdot d} (m \\ge d)$ and $\\delta$ is a random variable with zero mean and $\\sigma^2$ variance. The objective function is now a random variable, as it depends on $\\delta$. We aim at minimizing the expectation of such a random function, which can be formulated as :\n",
    "\n",
    "$$ \\min_x E [\\left| Ax - b \\right|^2] $$\n",
    "\n",
    "where $b \\in R^m$ and the expectation is taken over $\\delta$.\n",
    "\n",
    "Show that the problem is convex."
   ]
  },
  {
   "cell_type": "markdown",
   "id": "0281e516-07c8-4560-996b-60233d2ee584",
   "metadata": {},
   "source": [
    "[Sol]\n",
    "\n",
    "$E [\\left| Ax - b \\right|^2] = E [\\left| (A_0 + A_1\\delta)x - b \\right|^2]$\n",
    "\n",
    "$= E [((A_0 + A_1\\delta)x - b)^T((A_0 + A_1\\delta)x - b)]$\n",
    "\n",
    "$= E [X^T(A_0 + A_1\\delta)^T(A_0 + A_1\\delta)x - x^T(A_0+A_1\\delta)^Tb - b^T(A_0 + A_1\\delta)x + b^Tb]$\n",
    "\n",
    "$\\because E[\\delta] = 0$ and $E[\\delta^2] = Var(\\delta) + 0 = \\sigma^2$\n",
    "\n",
    "$= x^TA_0^TA_0x + x^TA_1^TA_1x\\sigma^2 - 2b^TA_0x + b^Tb$\n",
    "\n",
    "$\\nabla E [\\left| Ax - b \\right|^2] = \\nabla (x^TA_0^TA_0x + x^TA_1^TA_1x\\sigma^2 - 2b^TA_0x + b^Tb)$\n",
    "\n",
    "$= 2A_0^TA_0x + 2A_1^TA_1x\\sigma^2 - 2b^TA_0$\n",
    "\n",
    "$\\nabla^2 E [\\left| Ax - b \\right|^2] = \\nabla (2A_0^TA_0x + 2A_1^TA_1x\\sigma^2 - 2b^TA_0)$\n",
    "\n",
    "$= 2A_0^TA_0 + 2\\sigma^2A_1^TA_1 \\ge 0$\n",
    "\n",
    "Since $A_0^TA_0 \\ge 0$ and $A_1^TA_1 \\ge 0$, by second order condition, $E [\\left| Ax - b \\right|^2]$ is convex.\n",
    "\n",
    "$\\therefore$ the problem is convex."
   ]
  },
  {
   "cell_type": "markdown",
   "id": "257e1340-2eeb-4e89-8164-d0502a48036f",
   "metadata": {},
   "source": [
    "-----------\n",
    "\n",
    "To which class does it belong to? Also cast it into the class.\n",
    "\n",
    "[Sol]\n",
    "\n",
    "$E [\\left| Ax - b \\right|^2] = x^TA_0^TA_0x + x^TA_1^TA_1x\\sigma^2 - 2b^TA_0x + b^Tb$\n",
    "\n",
    "$= (x^TA_0^TA-0x - 2b^TA_0x + b^Tb) + x^TA_1^TA_1x\\sigma^2$\n",
    "\n",
    "$= \\left|A_0x - b \\right|^2 + \\sigma^2\\left|A_1x \\right|^2$\n",
    "\n",
    "$= \\left| \\begin{bmatrix}\n",
    "A_0 \\\\\n",
    "\\sigma{A_1} \\\\\n",
    "\\end{bmatrix}x - \\begin{bmatrix}\n",
    "b \\\\\n",
    "0 \\\\\n",
    "\\end{bmatrix} \\right|^2$\n",
    "\n",
    "$= \\left|A'x - b' \\right|^2$\n",
    "\n",
    "where $A' := \\begin{bmatrix}\n",
    "A_0 \\\\\n",
    "\\sigma{A_1} \\\\\n",
    "\\end{bmatrix}$ and $b' := \\begin{bmatrix}\n",
    "b \\\\\n",
    "0 \\\\\n",
    "\\end{bmatrix}$.\n",
    "\n",
    "The function belongs to Least Squares."
   ]
  },
  {
   "cell_type": "code",
   "execution_count": null,
   "id": "e885d353-ce7c-4759-a44b-a789007c1f3a",
   "metadata": {},
   "outputs": [],
   "source": []
  }
 ],
 "metadata": {
  "kernelspec": {
   "display_name": "Python 3 (ipykernel)",
   "language": "python",
   "name": "python3"
  },
  "language_info": {
   "codemirror_mode": {
    "name": "ipython",
    "version": 3
   },
   "file_extension": ".py",
   "mimetype": "text/x-python",
   "name": "python",
   "nbconvert_exporter": "python",
   "pygments_lexer": "ipython3",
   "version": "3.9.15"
  }
 },
 "nbformat": 4,
 "nbformat_minor": 5
}
