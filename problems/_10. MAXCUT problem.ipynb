{
 "cells": [
  {
   "cell_type": "markdown",
   "id": "b380570c-a66f-41bc-b5c6-8b3aac6c9c67",
   "metadata": {},
   "source": [
    "<img src = \"./img/9_1.png\" style = \"width : 700px;\">\n",
    "\n",
    "Formulate an optimization problem that intends to find a set that maximizes a cut."
   ]
  },
  {
   "cell_type": "markdown",
   "id": "51f05cab-d385-4025-9908-1b3fcfc529cb",
   "metadata": {},
   "source": [
    "$$\n",
    "\\begin{array}\n",
    "    p^* = \\max_{x_i} \\sum_{i=1}^6 \\sum_{j=1}^6 \\frac{1}{2} w_{ij} (1 - x_ix_j) : \\\\\n",
    "    x_i^2 = 1, i \\in \\{1,2,\\cdot\\cdot\\cdot 6 \\} \\\\\n",
    "\\end{array}\n",
    "$$\n",
    "\n",
    "SDP Relaxation\n",
    "\n",
    "$$\n",
    "\\begin{array}\n",
    "    p_{SDP}^* = \\max_{X} \\sum_{i=1}^6 \\sum_{j=1}^6 \\frac{1}{2} w_{ij} (1 - X_{ij}) : \\\\\n",
    "    X_{ii} = 1, i \\in \\{1,2,\\cdot\\cdot\\cdot 6 \\} \\\\\n",
    "    X \\ge 0 \\\\\n",
    "\\end{array}\n",
    "$$"
   ]
  },
  {
   "cell_type": "code",
   "execution_count": null,
   "id": "8f4e50b5-0ba2-4cd8-a764-55539ff8869c",
   "metadata": {},
   "outputs": [],
   "source": [
    "## cvxpy\n",
    "\n",
    "X = cp.Variable((6,6), symmetric = True)\n",
    "\n",
    "W = np.array([[1,1,0,2,6,0],\n",
    "             [0,1,2,5,0,0],\n",
    "             [0,0,1,0,0,1],\n",
    "             [0,0,0,1,1.5,0],\n",
    "             [0,0,0,0,1,0],\n",
    "             [0,0,0,0,0,1]])\n",
    "\n",
    "cost = cp.trace(W@(1-X))\n",
    "obj_max = cp.Maximize(0.5*cost)\n",
    "\n",
    "ineq_constraints = [X >> 0]\n",
    "constraints = ineq_constraints + [cp.diag(X) == 1]\n",
    "\n",
    "prob = cp.Problem(obj_max, constraints)\n",
    "prob.solve\n",
    "\n",
    "print(prob.status)\n",
    "print(prob.value)\n",
    "print(X.value)"
   ]
  }
 ],
 "metadata": {
  "kernelspec": {
   "display_name": "Python 3 (ipykernel)",
   "language": "python",
   "name": "python3"
  },
  "language_info": {
   "codemirror_mode": {
    "name": "ipython",
    "version": 3
   },
   "file_extension": ".py",
   "mimetype": "text/x-python",
   "name": "python",
   "nbconvert_exporter": "python",
   "pygments_lexer": "ipython3",
   "version": "3.9.15"
  }
 },
 "nbformat": 4,
 "nbformat_minor": 5
}
